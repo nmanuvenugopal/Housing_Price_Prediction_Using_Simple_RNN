{
  "nbformat": 4,
  "nbformat_minor": 0,
  "metadata": {
    "colab": {
      "provenance": []
    },
    "kernelspec": {
      "name": "python3",
      "display_name": "Python 3"
    },
    "language_info": {
      "name": "python"
    }
  },
  "cells": [
    {
      "cell_type": "markdown",
      "source": [
        "## About Dataset\n",
        "\n",
        "We will be using data from a Kaggle data set:\n",
        "\n",
        "https://www.kaggle.com/harlfoxem/housesalesprediction\n",
        "\n",
        "#### Feature Columns\n",
        "    \n",
        "* id - Unique ID for each home sold\n",
        "* date - Date of the home sale\n",
        "* price - Price of each home sold\n",
        "* bedrooms - Number of bedrooms\n",
        "* bathrooms - Number of bathrooms, where .5 accounts for a room with a toilet but no shower\n",
        "* sqft_living - Square footage of the apartments interior living space\n",
        "* sqft_lot - Square footage of the land space\n",
        "* floors - Number of floors\n",
        "* waterfront - A dummy variable for whether the apartment was overlooking the waterfront or not\n",
        "* view - An index from 0 to 4 of how good the view of the property was\n",
        "* condition - An index from 1 to 5 on the condition of the apartment,\n",
        "* grade - An index from 1 to 13, where 1-3 falls short of building construction and design, 7 has an average level of construction and design, and 11-13 have a high quality level of construction and design.\n",
        "* sqft_above - The square footage of the interior housing space that is above ground level\n",
        "* sqft_basement - The square footage of the interior housing space that is below ground level\n",
        "* yr_built - The year the house was initially built\n",
        "* yr_renovated - The year of the house’s last renovation\n",
        "* zipcode - What zipcode area the house is in\n",
        "* lat - Lattitude\n",
        "* long - Longitude\n",
        "* sqft_living15 - The square footage of interior housing living space for the nearest 15 neighbors\n",
        "* sqft_lot15 - The square footage of the land lots of the nearest 15 neighbors"
      ],
      "metadata": {
        "id": "N4Ty-ChZLrtE"
      }
    },
    {
      "cell_type": "code",
      "execution_count": 58,
      "metadata": {
        "id": "U-t0QMNNG8rY"
      },
      "outputs": [],
      "source": [
        "import pandas as pd\n",
        "import numpy as np\n",
        "import matplotlib.pyplot as plt\n",
        "import seaborn as sns"
      ]
    },
    {
      "cell_type": "code",
      "source": [
        "df = pd.read_csv('kc_house_data.csv')\n",
        "df.head()"
      ],
      "metadata": {
        "colab": {
          "base_uri": "https://localhost:8080/",
          "height": 299
        },
        "id": "w760b8WRKj8P",
        "outputId": "c1cd2efe-913c-4588-e74a-7a4dd205415a"
      },
      "execution_count": 59,
      "outputs": [
        {
          "output_type": "execute_result",
          "data": {
            "text/plain": [
              "           id        date     price  bedrooms  bathrooms  sqft_living  \\\n",
              "0  7129300520  10/13/2014  221900.0         3       1.00         1180   \n",
              "1  6414100192   12/9/2014  538000.0         3       2.25         2570   \n",
              "2  5631500400   2/25/2015  180000.0         2       1.00          770   \n",
              "3  2487200875   12/9/2014  604000.0         4       3.00         1960   \n",
              "4  1954400510   2/18/2015  510000.0         3       2.00         1680   \n",
              "\n",
              "   sqft_lot  floors  waterfront  view  ...  grade  sqft_above  sqft_basement  \\\n",
              "0      5650     1.0           0     0  ...      7        1180              0   \n",
              "1      7242     2.0           0     0  ...      7        2170            400   \n",
              "2     10000     1.0           0     0  ...      6         770              0   \n",
              "3      5000     1.0           0     0  ...      7        1050            910   \n",
              "4      8080     1.0           0     0  ...      8        1680              0   \n",
              "\n",
              "   yr_built  yr_renovated  zipcode      lat     long  sqft_living15  \\\n",
              "0      1955             0    98178  47.5112 -122.257           1340   \n",
              "1      1951          1991    98125  47.7210 -122.319           1690   \n",
              "2      1933             0    98028  47.7379 -122.233           2720   \n",
              "3      1965             0    98136  47.5208 -122.393           1360   \n",
              "4      1987             0    98074  47.6168 -122.045           1800   \n",
              "\n",
              "   sqft_lot15  \n",
              "0        5650  \n",
              "1        7639  \n",
              "2        8062  \n",
              "3        5000  \n",
              "4        7503  \n",
              "\n",
              "[5 rows x 21 columns]"
            ],
            "text/html": [
              "\n",
              "  <div id=\"df-9bbc0a19-e1c2-42b5-a5ed-7b6151c30102\">\n",
              "    <div class=\"colab-df-container\">\n",
              "      <div>\n",
              "<style scoped>\n",
              "    .dataframe tbody tr th:only-of-type {\n",
              "        vertical-align: middle;\n",
              "    }\n",
              "\n",
              "    .dataframe tbody tr th {\n",
              "        vertical-align: top;\n",
              "    }\n",
              "\n",
              "    .dataframe thead th {\n",
              "        text-align: right;\n",
              "    }\n",
              "</style>\n",
              "<table border=\"1\" class=\"dataframe\">\n",
              "  <thead>\n",
              "    <tr style=\"text-align: right;\">\n",
              "      <th></th>\n",
              "      <th>id</th>\n",
              "      <th>date</th>\n",
              "      <th>price</th>\n",
              "      <th>bedrooms</th>\n",
              "      <th>bathrooms</th>\n",
              "      <th>sqft_living</th>\n",
              "      <th>sqft_lot</th>\n",
              "      <th>floors</th>\n",
              "      <th>waterfront</th>\n",
              "      <th>view</th>\n",
              "      <th>...</th>\n",
              "      <th>grade</th>\n",
              "      <th>sqft_above</th>\n",
              "      <th>sqft_basement</th>\n",
              "      <th>yr_built</th>\n",
              "      <th>yr_renovated</th>\n",
              "      <th>zipcode</th>\n",
              "      <th>lat</th>\n",
              "      <th>long</th>\n",
              "      <th>sqft_living15</th>\n",
              "      <th>sqft_lot15</th>\n",
              "    </tr>\n",
              "  </thead>\n",
              "  <tbody>\n",
              "    <tr>\n",
              "      <th>0</th>\n",
              "      <td>7129300520</td>\n",
              "      <td>10/13/2014</td>\n",
              "      <td>221900.0</td>\n",
              "      <td>3</td>\n",
              "      <td>1.00</td>\n",
              "      <td>1180</td>\n",
              "      <td>5650</td>\n",
              "      <td>1.0</td>\n",
              "      <td>0</td>\n",
              "      <td>0</td>\n",
              "      <td>...</td>\n",
              "      <td>7</td>\n",
              "      <td>1180</td>\n",
              "      <td>0</td>\n",
              "      <td>1955</td>\n",
              "      <td>0</td>\n",
              "      <td>98178</td>\n",
              "      <td>47.5112</td>\n",
              "      <td>-122.257</td>\n",
              "      <td>1340</td>\n",
              "      <td>5650</td>\n",
              "    </tr>\n",
              "    <tr>\n",
              "      <th>1</th>\n",
              "      <td>6414100192</td>\n",
              "      <td>12/9/2014</td>\n",
              "      <td>538000.0</td>\n",
              "      <td>3</td>\n",
              "      <td>2.25</td>\n",
              "      <td>2570</td>\n",
              "      <td>7242</td>\n",
              "      <td>2.0</td>\n",
              "      <td>0</td>\n",
              "      <td>0</td>\n",
              "      <td>...</td>\n",
              "      <td>7</td>\n",
              "      <td>2170</td>\n",
              "      <td>400</td>\n",
              "      <td>1951</td>\n",
              "      <td>1991</td>\n",
              "      <td>98125</td>\n",
              "      <td>47.7210</td>\n",
              "      <td>-122.319</td>\n",
              "      <td>1690</td>\n",
              "      <td>7639</td>\n",
              "    </tr>\n",
              "    <tr>\n",
              "      <th>2</th>\n",
              "      <td>5631500400</td>\n",
              "      <td>2/25/2015</td>\n",
              "      <td>180000.0</td>\n",
              "      <td>2</td>\n",
              "      <td>1.00</td>\n",
              "      <td>770</td>\n",
              "      <td>10000</td>\n",
              "      <td>1.0</td>\n",
              "      <td>0</td>\n",
              "      <td>0</td>\n",
              "      <td>...</td>\n",
              "      <td>6</td>\n",
              "      <td>770</td>\n",
              "      <td>0</td>\n",
              "      <td>1933</td>\n",
              "      <td>0</td>\n",
              "      <td>98028</td>\n",
              "      <td>47.7379</td>\n",
              "      <td>-122.233</td>\n",
              "      <td>2720</td>\n",
              "      <td>8062</td>\n",
              "    </tr>\n",
              "    <tr>\n",
              "      <th>3</th>\n",
              "      <td>2487200875</td>\n",
              "      <td>12/9/2014</td>\n",
              "      <td>604000.0</td>\n",
              "      <td>4</td>\n",
              "      <td>3.00</td>\n",
              "      <td>1960</td>\n",
              "      <td>5000</td>\n",
              "      <td>1.0</td>\n",
              "      <td>0</td>\n",
              "      <td>0</td>\n",
              "      <td>...</td>\n",
              "      <td>7</td>\n",
              "      <td>1050</td>\n",
              "      <td>910</td>\n",
              "      <td>1965</td>\n",
              "      <td>0</td>\n",
              "      <td>98136</td>\n",
              "      <td>47.5208</td>\n",
              "      <td>-122.393</td>\n",
              "      <td>1360</td>\n",
              "      <td>5000</td>\n",
              "    </tr>\n",
              "    <tr>\n",
              "      <th>4</th>\n",
              "      <td>1954400510</td>\n",
              "      <td>2/18/2015</td>\n",
              "      <td>510000.0</td>\n",
              "      <td>3</td>\n",
              "      <td>2.00</td>\n",
              "      <td>1680</td>\n",
              "      <td>8080</td>\n",
              "      <td>1.0</td>\n",
              "      <td>0</td>\n",
              "      <td>0</td>\n",
              "      <td>...</td>\n",
              "      <td>8</td>\n",
              "      <td>1680</td>\n",
              "      <td>0</td>\n",
              "      <td>1987</td>\n",
              "      <td>0</td>\n",
              "      <td>98074</td>\n",
              "      <td>47.6168</td>\n",
              "      <td>-122.045</td>\n",
              "      <td>1800</td>\n",
              "      <td>7503</td>\n",
              "    </tr>\n",
              "  </tbody>\n",
              "</table>\n",
              "<p>5 rows × 21 columns</p>\n",
              "</div>\n",
              "      <button class=\"colab-df-convert\" onclick=\"convertToInteractive('df-9bbc0a19-e1c2-42b5-a5ed-7b6151c30102')\"\n",
              "              title=\"Convert this dataframe to an interactive table.\"\n",
              "              style=\"display:none;\">\n",
              "        \n",
              "  <svg xmlns=\"http://www.w3.org/2000/svg\" height=\"24px\"viewBox=\"0 0 24 24\"\n",
              "       width=\"24px\">\n",
              "    <path d=\"M0 0h24v24H0V0z\" fill=\"none\"/>\n",
              "    <path d=\"M18.56 5.44l.94 2.06.94-2.06 2.06-.94-2.06-.94-.94-2.06-.94 2.06-2.06.94zm-11 1L8.5 8.5l.94-2.06 2.06-.94-2.06-.94L8.5 2.5l-.94 2.06-2.06.94zm10 10l.94 2.06.94-2.06 2.06-.94-2.06-.94-.94-2.06-.94 2.06-2.06.94z\"/><path d=\"M17.41 7.96l-1.37-1.37c-.4-.4-.92-.59-1.43-.59-.52 0-1.04.2-1.43.59L10.3 9.45l-7.72 7.72c-.78.78-.78 2.05 0 2.83L4 21.41c.39.39.9.59 1.41.59.51 0 1.02-.2 1.41-.59l7.78-7.78 2.81-2.81c.8-.78.8-2.07 0-2.86zM5.41 20L4 18.59l7.72-7.72 1.47 1.35L5.41 20z\"/>\n",
              "  </svg>\n",
              "      </button>\n",
              "      \n",
              "  <style>\n",
              "    .colab-df-container {\n",
              "      display:flex;\n",
              "      flex-wrap:wrap;\n",
              "      gap: 12px;\n",
              "    }\n",
              "\n",
              "    .colab-df-convert {\n",
              "      background-color: #E8F0FE;\n",
              "      border: none;\n",
              "      border-radius: 50%;\n",
              "      cursor: pointer;\n",
              "      display: none;\n",
              "      fill: #1967D2;\n",
              "      height: 32px;\n",
              "      padding: 0 0 0 0;\n",
              "      width: 32px;\n",
              "    }\n",
              "\n",
              "    .colab-df-convert:hover {\n",
              "      background-color: #E2EBFA;\n",
              "      box-shadow: 0px 1px 2px rgba(60, 64, 67, 0.3), 0px 1px 3px 1px rgba(60, 64, 67, 0.15);\n",
              "      fill: #174EA6;\n",
              "    }\n",
              "\n",
              "    [theme=dark] .colab-df-convert {\n",
              "      background-color: #3B4455;\n",
              "      fill: #D2E3FC;\n",
              "    }\n",
              "\n",
              "    [theme=dark] .colab-df-convert:hover {\n",
              "      background-color: #434B5C;\n",
              "      box-shadow: 0px 1px 3px 1px rgba(0, 0, 0, 0.15);\n",
              "      filter: drop-shadow(0px 1px 2px rgba(0, 0, 0, 0.3));\n",
              "      fill: #FFFFFF;\n",
              "    }\n",
              "  </style>\n",
              "\n",
              "      <script>\n",
              "        const buttonEl =\n",
              "          document.querySelector('#df-9bbc0a19-e1c2-42b5-a5ed-7b6151c30102 button.colab-df-convert');\n",
              "        buttonEl.style.display =\n",
              "          google.colab.kernel.accessAllowed ? 'block' : 'none';\n",
              "\n",
              "        async function convertToInteractive(key) {\n",
              "          const element = document.querySelector('#df-9bbc0a19-e1c2-42b5-a5ed-7b6151c30102');\n",
              "          const dataTable =\n",
              "            await google.colab.kernel.invokeFunction('convertToInteractive',\n",
              "                                                     [key], {});\n",
              "          if (!dataTable) return;\n",
              "\n",
              "          const docLinkHtml = 'Like what you see? Visit the ' +\n",
              "            '<a target=\"_blank\" href=https://colab.research.google.com/notebooks/data_table.ipynb>data table notebook</a>'\n",
              "            + ' to learn more about interactive tables.';\n",
              "          element.innerHTML = '';\n",
              "          dataTable['output_type'] = 'display_data';\n",
              "          await google.colab.output.renderOutput(dataTable, element);\n",
              "          const docLink = document.createElement('div');\n",
              "          docLink.innerHTML = docLinkHtml;\n",
              "          element.appendChild(docLink);\n",
              "        }\n",
              "      </script>\n",
              "    </div>\n",
              "  </div>\n",
              "  "
            ]
          },
          "metadata": {},
          "execution_count": 59
        }
      ]
    },
    {
      "cell_type": "code",
      "source": [
        "# To check whether there is any null values\n",
        "\n",
        "df.isnull().sum()"
      ],
      "metadata": {
        "colab": {
          "base_uri": "https://localhost:8080/"
        },
        "id": "aUzEIet_KryQ",
        "outputId": "f4d6ee0a-d205-4be6-b049-db4e5ce864f4"
      },
      "execution_count": 60,
      "outputs": [
        {
          "output_type": "execute_result",
          "data": {
            "text/plain": [
              "id               0\n",
              "date             0\n",
              "price            0\n",
              "bedrooms         0\n",
              "bathrooms        0\n",
              "sqft_living      0\n",
              "sqft_lot         0\n",
              "floors           0\n",
              "waterfront       0\n",
              "view             0\n",
              "condition        0\n",
              "grade            0\n",
              "sqft_above       0\n",
              "sqft_basement    0\n",
              "yr_built         0\n",
              "yr_renovated     0\n",
              "zipcode          0\n",
              "lat              0\n",
              "long             0\n",
              "sqft_living15    0\n",
              "sqft_lot15       0\n",
              "dtype: int64"
            ]
          },
          "metadata": {},
          "execution_count": 60
        }
      ]
    },
    {
      "cell_type": "code",
      "source": [
        "# Description about the dataset\n",
        "\n",
        "df.describe()"
      ],
      "metadata": {
        "colab": {
          "base_uri": "https://localhost:8080/",
          "height": 364
        },
        "id": "Ocm_sIrbLDyX",
        "outputId": "ad1d31f8-78bf-43cc-864d-ae1849d7e1b4"
      },
      "execution_count": 61,
      "outputs": [
        {
          "output_type": "execute_result",
          "data": {
            "text/plain": [
              "                 id         price      bedrooms     bathrooms   sqft_living  \\\n",
              "count  2.159700e+04  2.159700e+04  21597.000000  21597.000000  21597.000000   \n",
              "mean   4.580474e+09  5.402966e+05      3.373200      2.115826   2080.321850   \n",
              "std    2.876736e+09  3.673681e+05      0.926299      0.768984    918.106125   \n",
              "min    1.000102e+06  7.800000e+04      1.000000      0.500000    370.000000   \n",
              "25%    2.123049e+09  3.220000e+05      3.000000      1.750000   1430.000000   \n",
              "50%    3.904930e+09  4.500000e+05      3.000000      2.250000   1910.000000   \n",
              "75%    7.308900e+09  6.450000e+05      4.000000      2.500000   2550.000000   \n",
              "max    9.900000e+09  7.700000e+06     33.000000      8.000000  13540.000000   \n",
              "\n",
              "           sqft_lot        floors    waterfront          view     condition  \\\n",
              "count  2.159700e+04  21597.000000  21597.000000  21597.000000  21597.000000   \n",
              "mean   1.509941e+04      1.494096      0.007547      0.234292      3.409825   \n",
              "std    4.141264e+04      0.539683      0.086549      0.766390      0.650546   \n",
              "min    5.200000e+02      1.000000      0.000000      0.000000      1.000000   \n",
              "25%    5.040000e+03      1.000000      0.000000      0.000000      3.000000   \n",
              "50%    7.618000e+03      1.500000      0.000000      0.000000      3.000000   \n",
              "75%    1.068500e+04      2.000000      0.000000      0.000000      4.000000   \n",
              "max    1.651359e+06      3.500000      1.000000      4.000000      5.000000   \n",
              "\n",
              "              grade    sqft_above  sqft_basement      yr_built  yr_renovated  \\\n",
              "count  21597.000000  21597.000000   21597.000000  21597.000000  21597.000000   \n",
              "mean       7.657915   1788.596842     291.725008   1970.999676     84.464787   \n",
              "std        1.173200    827.759761     442.667800     29.375234    401.821438   \n",
              "min        3.000000    370.000000       0.000000   1900.000000      0.000000   \n",
              "25%        7.000000   1190.000000       0.000000   1951.000000      0.000000   \n",
              "50%        7.000000   1560.000000       0.000000   1975.000000      0.000000   \n",
              "75%        8.000000   2210.000000     560.000000   1997.000000      0.000000   \n",
              "max       13.000000   9410.000000    4820.000000   2015.000000   2015.000000   \n",
              "\n",
              "            zipcode           lat          long  sqft_living15     sqft_lot15  \n",
              "count  21597.000000  21597.000000  21597.000000   21597.000000   21597.000000  \n",
              "mean   98077.951845     47.560093   -122.213982    1986.620318   12758.283512  \n",
              "std       53.513072      0.138552      0.140724     685.230472   27274.441950  \n",
              "min    98001.000000     47.155900   -122.519000     399.000000     651.000000  \n",
              "25%    98033.000000     47.471100   -122.328000    1490.000000    5100.000000  \n",
              "50%    98065.000000     47.571800   -122.231000    1840.000000    7620.000000  \n",
              "75%    98118.000000     47.678000   -122.125000    2360.000000   10083.000000  \n",
              "max    98199.000000     47.777600   -121.315000    6210.000000  871200.000000  "
            ],
            "text/html": [
              "\n",
              "  <div id=\"df-20ccfe6a-9b4a-4330-9110-2734beaf80b5\">\n",
              "    <div class=\"colab-df-container\">\n",
              "      <div>\n",
              "<style scoped>\n",
              "    .dataframe tbody tr th:only-of-type {\n",
              "        vertical-align: middle;\n",
              "    }\n",
              "\n",
              "    .dataframe tbody tr th {\n",
              "        vertical-align: top;\n",
              "    }\n",
              "\n",
              "    .dataframe thead th {\n",
              "        text-align: right;\n",
              "    }\n",
              "</style>\n",
              "<table border=\"1\" class=\"dataframe\">\n",
              "  <thead>\n",
              "    <tr style=\"text-align: right;\">\n",
              "      <th></th>\n",
              "      <th>id</th>\n",
              "      <th>price</th>\n",
              "      <th>bedrooms</th>\n",
              "      <th>bathrooms</th>\n",
              "      <th>sqft_living</th>\n",
              "      <th>sqft_lot</th>\n",
              "      <th>floors</th>\n",
              "      <th>waterfront</th>\n",
              "      <th>view</th>\n",
              "      <th>condition</th>\n",
              "      <th>grade</th>\n",
              "      <th>sqft_above</th>\n",
              "      <th>sqft_basement</th>\n",
              "      <th>yr_built</th>\n",
              "      <th>yr_renovated</th>\n",
              "      <th>zipcode</th>\n",
              "      <th>lat</th>\n",
              "      <th>long</th>\n",
              "      <th>sqft_living15</th>\n",
              "      <th>sqft_lot15</th>\n",
              "    </tr>\n",
              "  </thead>\n",
              "  <tbody>\n",
              "    <tr>\n",
              "      <th>count</th>\n",
              "      <td>2.159700e+04</td>\n",
              "      <td>2.159700e+04</td>\n",
              "      <td>21597.000000</td>\n",
              "      <td>21597.000000</td>\n",
              "      <td>21597.000000</td>\n",
              "      <td>2.159700e+04</td>\n",
              "      <td>21597.000000</td>\n",
              "      <td>21597.000000</td>\n",
              "      <td>21597.000000</td>\n",
              "      <td>21597.000000</td>\n",
              "      <td>21597.000000</td>\n",
              "      <td>21597.000000</td>\n",
              "      <td>21597.000000</td>\n",
              "      <td>21597.000000</td>\n",
              "      <td>21597.000000</td>\n",
              "      <td>21597.000000</td>\n",
              "      <td>21597.000000</td>\n",
              "      <td>21597.000000</td>\n",
              "      <td>21597.000000</td>\n",
              "      <td>21597.000000</td>\n",
              "    </tr>\n",
              "    <tr>\n",
              "      <th>mean</th>\n",
              "      <td>4.580474e+09</td>\n",
              "      <td>5.402966e+05</td>\n",
              "      <td>3.373200</td>\n",
              "      <td>2.115826</td>\n",
              "      <td>2080.321850</td>\n",
              "      <td>1.509941e+04</td>\n",
              "      <td>1.494096</td>\n",
              "      <td>0.007547</td>\n",
              "      <td>0.234292</td>\n",
              "      <td>3.409825</td>\n",
              "      <td>7.657915</td>\n",
              "      <td>1788.596842</td>\n",
              "      <td>291.725008</td>\n",
              "      <td>1970.999676</td>\n",
              "      <td>84.464787</td>\n",
              "      <td>98077.951845</td>\n",
              "      <td>47.560093</td>\n",
              "      <td>-122.213982</td>\n",
              "      <td>1986.620318</td>\n",
              "      <td>12758.283512</td>\n",
              "    </tr>\n",
              "    <tr>\n",
              "      <th>std</th>\n",
              "      <td>2.876736e+09</td>\n",
              "      <td>3.673681e+05</td>\n",
              "      <td>0.926299</td>\n",
              "      <td>0.768984</td>\n",
              "      <td>918.106125</td>\n",
              "      <td>4.141264e+04</td>\n",
              "      <td>0.539683</td>\n",
              "      <td>0.086549</td>\n",
              "      <td>0.766390</td>\n",
              "      <td>0.650546</td>\n",
              "      <td>1.173200</td>\n",
              "      <td>827.759761</td>\n",
              "      <td>442.667800</td>\n",
              "      <td>29.375234</td>\n",
              "      <td>401.821438</td>\n",
              "      <td>53.513072</td>\n",
              "      <td>0.138552</td>\n",
              "      <td>0.140724</td>\n",
              "      <td>685.230472</td>\n",
              "      <td>27274.441950</td>\n",
              "    </tr>\n",
              "    <tr>\n",
              "      <th>min</th>\n",
              "      <td>1.000102e+06</td>\n",
              "      <td>7.800000e+04</td>\n",
              "      <td>1.000000</td>\n",
              "      <td>0.500000</td>\n",
              "      <td>370.000000</td>\n",
              "      <td>5.200000e+02</td>\n",
              "      <td>1.000000</td>\n",
              "      <td>0.000000</td>\n",
              "      <td>0.000000</td>\n",
              "      <td>1.000000</td>\n",
              "      <td>3.000000</td>\n",
              "      <td>370.000000</td>\n",
              "      <td>0.000000</td>\n",
              "      <td>1900.000000</td>\n",
              "      <td>0.000000</td>\n",
              "      <td>98001.000000</td>\n",
              "      <td>47.155900</td>\n",
              "      <td>-122.519000</td>\n",
              "      <td>399.000000</td>\n",
              "      <td>651.000000</td>\n",
              "    </tr>\n",
              "    <tr>\n",
              "      <th>25%</th>\n",
              "      <td>2.123049e+09</td>\n",
              "      <td>3.220000e+05</td>\n",
              "      <td>3.000000</td>\n",
              "      <td>1.750000</td>\n",
              "      <td>1430.000000</td>\n",
              "      <td>5.040000e+03</td>\n",
              "      <td>1.000000</td>\n",
              "      <td>0.000000</td>\n",
              "      <td>0.000000</td>\n",
              "      <td>3.000000</td>\n",
              "      <td>7.000000</td>\n",
              "      <td>1190.000000</td>\n",
              "      <td>0.000000</td>\n",
              "      <td>1951.000000</td>\n",
              "      <td>0.000000</td>\n",
              "      <td>98033.000000</td>\n",
              "      <td>47.471100</td>\n",
              "      <td>-122.328000</td>\n",
              "      <td>1490.000000</td>\n",
              "      <td>5100.000000</td>\n",
              "    </tr>\n",
              "    <tr>\n",
              "      <th>50%</th>\n",
              "      <td>3.904930e+09</td>\n",
              "      <td>4.500000e+05</td>\n",
              "      <td>3.000000</td>\n",
              "      <td>2.250000</td>\n",
              "      <td>1910.000000</td>\n",
              "      <td>7.618000e+03</td>\n",
              "      <td>1.500000</td>\n",
              "      <td>0.000000</td>\n",
              "      <td>0.000000</td>\n",
              "      <td>3.000000</td>\n",
              "      <td>7.000000</td>\n",
              "      <td>1560.000000</td>\n",
              "      <td>0.000000</td>\n",
              "      <td>1975.000000</td>\n",
              "      <td>0.000000</td>\n",
              "      <td>98065.000000</td>\n",
              "      <td>47.571800</td>\n",
              "      <td>-122.231000</td>\n",
              "      <td>1840.000000</td>\n",
              "      <td>7620.000000</td>\n",
              "    </tr>\n",
              "    <tr>\n",
              "      <th>75%</th>\n",
              "      <td>7.308900e+09</td>\n",
              "      <td>6.450000e+05</td>\n",
              "      <td>4.000000</td>\n",
              "      <td>2.500000</td>\n",
              "      <td>2550.000000</td>\n",
              "      <td>1.068500e+04</td>\n",
              "      <td>2.000000</td>\n",
              "      <td>0.000000</td>\n",
              "      <td>0.000000</td>\n",
              "      <td>4.000000</td>\n",
              "      <td>8.000000</td>\n",
              "      <td>2210.000000</td>\n",
              "      <td>560.000000</td>\n",
              "      <td>1997.000000</td>\n",
              "      <td>0.000000</td>\n",
              "      <td>98118.000000</td>\n",
              "      <td>47.678000</td>\n",
              "      <td>-122.125000</td>\n",
              "      <td>2360.000000</td>\n",
              "      <td>10083.000000</td>\n",
              "    </tr>\n",
              "    <tr>\n",
              "      <th>max</th>\n",
              "      <td>9.900000e+09</td>\n",
              "      <td>7.700000e+06</td>\n",
              "      <td>33.000000</td>\n",
              "      <td>8.000000</td>\n",
              "      <td>13540.000000</td>\n",
              "      <td>1.651359e+06</td>\n",
              "      <td>3.500000</td>\n",
              "      <td>1.000000</td>\n",
              "      <td>4.000000</td>\n",
              "      <td>5.000000</td>\n",
              "      <td>13.000000</td>\n",
              "      <td>9410.000000</td>\n",
              "      <td>4820.000000</td>\n",
              "      <td>2015.000000</td>\n",
              "      <td>2015.000000</td>\n",
              "      <td>98199.000000</td>\n",
              "      <td>47.777600</td>\n",
              "      <td>-121.315000</td>\n",
              "      <td>6210.000000</td>\n",
              "      <td>871200.000000</td>\n",
              "    </tr>\n",
              "  </tbody>\n",
              "</table>\n",
              "</div>\n",
              "      <button class=\"colab-df-convert\" onclick=\"convertToInteractive('df-20ccfe6a-9b4a-4330-9110-2734beaf80b5')\"\n",
              "              title=\"Convert this dataframe to an interactive table.\"\n",
              "              style=\"display:none;\">\n",
              "        \n",
              "  <svg xmlns=\"http://www.w3.org/2000/svg\" height=\"24px\"viewBox=\"0 0 24 24\"\n",
              "       width=\"24px\">\n",
              "    <path d=\"M0 0h24v24H0V0z\" fill=\"none\"/>\n",
              "    <path d=\"M18.56 5.44l.94 2.06.94-2.06 2.06-.94-2.06-.94-.94-2.06-.94 2.06-2.06.94zm-11 1L8.5 8.5l.94-2.06 2.06-.94-2.06-.94L8.5 2.5l-.94 2.06-2.06.94zm10 10l.94 2.06.94-2.06 2.06-.94-2.06-.94-.94-2.06-.94 2.06-2.06.94z\"/><path d=\"M17.41 7.96l-1.37-1.37c-.4-.4-.92-.59-1.43-.59-.52 0-1.04.2-1.43.59L10.3 9.45l-7.72 7.72c-.78.78-.78 2.05 0 2.83L4 21.41c.39.39.9.59 1.41.59.51 0 1.02-.2 1.41-.59l7.78-7.78 2.81-2.81c.8-.78.8-2.07 0-2.86zM5.41 20L4 18.59l7.72-7.72 1.47 1.35L5.41 20z\"/>\n",
              "  </svg>\n",
              "      </button>\n",
              "      \n",
              "  <style>\n",
              "    .colab-df-container {\n",
              "      display:flex;\n",
              "      flex-wrap:wrap;\n",
              "      gap: 12px;\n",
              "    }\n",
              "\n",
              "    .colab-df-convert {\n",
              "      background-color: #E8F0FE;\n",
              "      border: none;\n",
              "      border-radius: 50%;\n",
              "      cursor: pointer;\n",
              "      display: none;\n",
              "      fill: #1967D2;\n",
              "      height: 32px;\n",
              "      padding: 0 0 0 0;\n",
              "      width: 32px;\n",
              "    }\n",
              "\n",
              "    .colab-df-convert:hover {\n",
              "      background-color: #E2EBFA;\n",
              "      box-shadow: 0px 1px 2px rgba(60, 64, 67, 0.3), 0px 1px 3px 1px rgba(60, 64, 67, 0.15);\n",
              "      fill: #174EA6;\n",
              "    }\n",
              "\n",
              "    [theme=dark] .colab-df-convert {\n",
              "      background-color: #3B4455;\n",
              "      fill: #D2E3FC;\n",
              "    }\n",
              "\n",
              "    [theme=dark] .colab-df-convert:hover {\n",
              "      background-color: #434B5C;\n",
              "      box-shadow: 0px 1px 3px 1px rgba(0, 0, 0, 0.15);\n",
              "      filter: drop-shadow(0px 1px 2px rgba(0, 0, 0, 0.3));\n",
              "      fill: #FFFFFF;\n",
              "    }\n",
              "  </style>\n",
              "\n",
              "      <script>\n",
              "        const buttonEl =\n",
              "          document.querySelector('#df-20ccfe6a-9b4a-4330-9110-2734beaf80b5 button.colab-df-convert');\n",
              "        buttonEl.style.display =\n",
              "          google.colab.kernel.accessAllowed ? 'block' : 'none';\n",
              "\n",
              "        async function convertToInteractive(key) {\n",
              "          const element = document.querySelector('#df-20ccfe6a-9b4a-4330-9110-2734beaf80b5');\n",
              "          const dataTable =\n",
              "            await google.colab.kernel.invokeFunction('convertToInteractive',\n",
              "                                                     [key], {});\n",
              "          if (!dataTable) return;\n",
              "\n",
              "          const docLinkHtml = 'Like what you see? Visit the ' +\n",
              "            '<a target=\"_blank\" href=https://colab.research.google.com/notebooks/data_table.ipynb>data table notebook</a>'\n",
              "            + ' to learn more about interactive tables.';\n",
              "          element.innerHTML = '';\n",
              "          dataTable['output_type'] = 'display_data';\n",
              "          await google.colab.output.renderOutput(dataTable, element);\n",
              "          const docLink = document.createElement('div');\n",
              "          docLink.innerHTML = docLinkHtml;\n",
              "          element.appendChild(docLink);\n",
              "        }\n",
              "      </script>\n",
              "    </div>\n",
              "  </div>\n",
              "  "
            ]
          },
          "metadata": {},
          "execution_count": 61
        }
      ]
    },
    {
      "cell_type": "code",
      "source": [
        "df.info()"
      ],
      "metadata": {
        "colab": {
          "base_uri": "https://localhost:8080/"
        },
        "id": "BvMDQbc7F_p8",
        "outputId": "c2627aa1-f1b1-4443-828a-609285719d54"
      },
      "execution_count": 62,
      "outputs": [
        {
          "output_type": "stream",
          "name": "stdout",
          "text": [
            "<class 'pandas.core.frame.DataFrame'>\n",
            "RangeIndex: 21597 entries, 0 to 21596\n",
            "Data columns (total 21 columns):\n",
            " #   Column         Non-Null Count  Dtype  \n",
            "---  ------         --------------  -----  \n",
            " 0   id             21597 non-null  int64  \n",
            " 1   date           21597 non-null  object \n",
            " 2   price          21597 non-null  float64\n",
            " 3   bedrooms       21597 non-null  int64  \n",
            " 4   bathrooms      21597 non-null  float64\n",
            " 5   sqft_living    21597 non-null  int64  \n",
            " 6   sqft_lot       21597 non-null  int64  \n",
            " 7   floors         21597 non-null  float64\n",
            " 8   waterfront     21597 non-null  int64  \n",
            " 9   view           21597 non-null  int64  \n",
            " 10  condition      21597 non-null  int64  \n",
            " 11  grade          21597 non-null  int64  \n",
            " 12  sqft_above     21597 non-null  int64  \n",
            " 13  sqft_basement  21597 non-null  int64  \n",
            " 14  yr_built       21597 non-null  int64  \n",
            " 15  yr_renovated   21597 non-null  int64  \n",
            " 16  zipcode        21597 non-null  int64  \n",
            " 17  lat            21597 non-null  float64\n",
            " 18  long           21597 non-null  float64\n",
            " 19  sqft_living15  21597 non-null  int64  \n",
            " 20  sqft_lot15     21597 non-null  int64  \n",
            "dtypes: float64(5), int64(15), object(1)\n",
            "memory usage: 3.5+ MB\n"
          ]
        }
      ]
    },
    {
      "cell_type": "code",
      "source": [
        "import datetime\n",
        "# Date column is object type, and need to be converted to DateTime.\n",
        "\n",
        "df['date'] = pd.to_datetime(df['date'])"
      ],
      "metadata": {
        "id": "KtdHPkDEGKex"
      },
      "execution_count": 63,
      "outputs": []
    },
    {
      "cell_type": "code",
      "source": [
        "# Checking the conversion is ok or not\n",
        "\n",
        "df.info()"
      ],
      "metadata": {
        "colab": {
          "base_uri": "https://localhost:8080/"
        },
        "id": "Ox4q0Mi3G6-X",
        "outputId": "f526f9f2-cbea-4a7b-e777-17add282a247"
      },
      "execution_count": 64,
      "outputs": [
        {
          "output_type": "stream",
          "name": "stdout",
          "text": [
            "<class 'pandas.core.frame.DataFrame'>\n",
            "RangeIndex: 21597 entries, 0 to 21596\n",
            "Data columns (total 21 columns):\n",
            " #   Column         Non-Null Count  Dtype         \n",
            "---  ------         --------------  -----         \n",
            " 0   id             21597 non-null  int64         \n",
            " 1   date           21597 non-null  datetime64[ns]\n",
            " 2   price          21597 non-null  float64       \n",
            " 3   bedrooms       21597 non-null  int64         \n",
            " 4   bathrooms      21597 non-null  float64       \n",
            " 5   sqft_living    21597 non-null  int64         \n",
            " 6   sqft_lot       21597 non-null  int64         \n",
            " 7   floors         21597 non-null  float64       \n",
            " 8   waterfront     21597 non-null  int64         \n",
            " 9   view           21597 non-null  int64         \n",
            " 10  condition      21597 non-null  int64         \n",
            " 11  grade          21597 non-null  int64         \n",
            " 12  sqft_above     21597 non-null  int64         \n",
            " 13  sqft_basement  21597 non-null  int64         \n",
            " 14  yr_built       21597 non-null  int64         \n",
            " 15  yr_renovated   21597 non-null  int64         \n",
            " 16  zipcode        21597 non-null  int64         \n",
            " 17  lat            21597 non-null  float64       \n",
            " 18  long           21597 non-null  float64       \n",
            " 19  sqft_living15  21597 non-null  int64         \n",
            " 20  sqft_lot15     21597 non-null  int64         \n",
            "dtypes: datetime64[ns](1), float64(5), int64(15)\n",
            "memory usage: 3.5 MB\n"
          ]
        }
      ]
    },
    {
      "cell_type": "markdown",
      "source": [
        "### EDA"
      ],
      "metadata": {
        "id": "HxXAmeqbK_ri"
      }
    },
    {
      "cell_type": "code",
      "source": [
        "# Extracting month and year from the date\n",
        "\n",
        "df['month'] = df['date'].apply(lambda date: date.month)\n",
        "df['year'] = df['date'].apply(lambda date: date.year) "
      ],
      "metadata": {
        "id": "Nir8mgSQHEEz"
      },
      "execution_count": 65,
      "outputs": []
    },
    {
      "cell_type": "code",
      "source": [
        "# Dropping less important columns\n",
        "\n",
        "df = df.drop(['id', 'date'], axis=1)"
      ],
      "metadata": {
        "id": "Cdd3t_M3H8vK"
      },
      "execution_count": 66,
      "outputs": []
    },
    {
      "cell_type": "code",
      "source": [
        "df.head()"
      ],
      "metadata": {
        "colab": {
          "base_uri": "https://localhost:8080/",
          "height": 299
        },
        "id": "uiEH_CfOIiTC",
        "outputId": "4dc04795-bbac-47e6-9684-525433fa19e5"
      },
      "execution_count": 67,
      "outputs": [
        {
          "output_type": "execute_result",
          "data": {
            "text/plain": [
              "      price  bedrooms  bathrooms  sqft_living  sqft_lot  floors  waterfront  \\\n",
              "0  221900.0         3       1.00         1180      5650     1.0           0   \n",
              "1  538000.0         3       2.25         2570      7242     2.0           0   \n",
              "2  180000.0         2       1.00          770     10000     1.0           0   \n",
              "3  604000.0         4       3.00         1960      5000     1.0           0   \n",
              "4  510000.0         3       2.00         1680      8080     1.0           0   \n",
              "\n",
              "   view  condition  grade  ...  sqft_basement  yr_built  yr_renovated  \\\n",
              "0     0          3      7  ...              0      1955             0   \n",
              "1     0          3      7  ...            400      1951          1991   \n",
              "2     0          3      6  ...              0      1933             0   \n",
              "3     0          5      7  ...            910      1965             0   \n",
              "4     0          3      8  ...              0      1987             0   \n",
              "\n",
              "   zipcode      lat     long  sqft_living15  sqft_lot15  month  year  \n",
              "0    98178  47.5112 -122.257           1340        5650     10  2014  \n",
              "1    98125  47.7210 -122.319           1690        7639     12  2014  \n",
              "2    98028  47.7379 -122.233           2720        8062      2  2015  \n",
              "3    98136  47.5208 -122.393           1360        5000     12  2014  \n",
              "4    98074  47.6168 -122.045           1800        7503      2  2015  \n",
              "\n",
              "[5 rows x 21 columns]"
            ],
            "text/html": [
              "\n",
              "  <div id=\"df-1ab6faf9-5fa6-47ec-a4fd-eebf456530b2\">\n",
              "    <div class=\"colab-df-container\">\n",
              "      <div>\n",
              "<style scoped>\n",
              "    .dataframe tbody tr th:only-of-type {\n",
              "        vertical-align: middle;\n",
              "    }\n",
              "\n",
              "    .dataframe tbody tr th {\n",
              "        vertical-align: top;\n",
              "    }\n",
              "\n",
              "    .dataframe thead th {\n",
              "        text-align: right;\n",
              "    }\n",
              "</style>\n",
              "<table border=\"1\" class=\"dataframe\">\n",
              "  <thead>\n",
              "    <tr style=\"text-align: right;\">\n",
              "      <th></th>\n",
              "      <th>price</th>\n",
              "      <th>bedrooms</th>\n",
              "      <th>bathrooms</th>\n",
              "      <th>sqft_living</th>\n",
              "      <th>sqft_lot</th>\n",
              "      <th>floors</th>\n",
              "      <th>waterfront</th>\n",
              "      <th>view</th>\n",
              "      <th>condition</th>\n",
              "      <th>grade</th>\n",
              "      <th>...</th>\n",
              "      <th>sqft_basement</th>\n",
              "      <th>yr_built</th>\n",
              "      <th>yr_renovated</th>\n",
              "      <th>zipcode</th>\n",
              "      <th>lat</th>\n",
              "      <th>long</th>\n",
              "      <th>sqft_living15</th>\n",
              "      <th>sqft_lot15</th>\n",
              "      <th>month</th>\n",
              "      <th>year</th>\n",
              "    </tr>\n",
              "  </thead>\n",
              "  <tbody>\n",
              "    <tr>\n",
              "      <th>0</th>\n",
              "      <td>221900.0</td>\n",
              "      <td>3</td>\n",
              "      <td>1.00</td>\n",
              "      <td>1180</td>\n",
              "      <td>5650</td>\n",
              "      <td>1.0</td>\n",
              "      <td>0</td>\n",
              "      <td>0</td>\n",
              "      <td>3</td>\n",
              "      <td>7</td>\n",
              "      <td>...</td>\n",
              "      <td>0</td>\n",
              "      <td>1955</td>\n",
              "      <td>0</td>\n",
              "      <td>98178</td>\n",
              "      <td>47.5112</td>\n",
              "      <td>-122.257</td>\n",
              "      <td>1340</td>\n",
              "      <td>5650</td>\n",
              "      <td>10</td>\n",
              "      <td>2014</td>\n",
              "    </tr>\n",
              "    <tr>\n",
              "      <th>1</th>\n",
              "      <td>538000.0</td>\n",
              "      <td>3</td>\n",
              "      <td>2.25</td>\n",
              "      <td>2570</td>\n",
              "      <td>7242</td>\n",
              "      <td>2.0</td>\n",
              "      <td>0</td>\n",
              "      <td>0</td>\n",
              "      <td>3</td>\n",
              "      <td>7</td>\n",
              "      <td>...</td>\n",
              "      <td>400</td>\n",
              "      <td>1951</td>\n",
              "      <td>1991</td>\n",
              "      <td>98125</td>\n",
              "      <td>47.7210</td>\n",
              "      <td>-122.319</td>\n",
              "      <td>1690</td>\n",
              "      <td>7639</td>\n",
              "      <td>12</td>\n",
              "      <td>2014</td>\n",
              "    </tr>\n",
              "    <tr>\n",
              "      <th>2</th>\n",
              "      <td>180000.0</td>\n",
              "      <td>2</td>\n",
              "      <td>1.00</td>\n",
              "      <td>770</td>\n",
              "      <td>10000</td>\n",
              "      <td>1.0</td>\n",
              "      <td>0</td>\n",
              "      <td>0</td>\n",
              "      <td>3</td>\n",
              "      <td>6</td>\n",
              "      <td>...</td>\n",
              "      <td>0</td>\n",
              "      <td>1933</td>\n",
              "      <td>0</td>\n",
              "      <td>98028</td>\n",
              "      <td>47.7379</td>\n",
              "      <td>-122.233</td>\n",
              "      <td>2720</td>\n",
              "      <td>8062</td>\n",
              "      <td>2</td>\n",
              "      <td>2015</td>\n",
              "    </tr>\n",
              "    <tr>\n",
              "      <th>3</th>\n",
              "      <td>604000.0</td>\n",
              "      <td>4</td>\n",
              "      <td>3.00</td>\n",
              "      <td>1960</td>\n",
              "      <td>5000</td>\n",
              "      <td>1.0</td>\n",
              "      <td>0</td>\n",
              "      <td>0</td>\n",
              "      <td>5</td>\n",
              "      <td>7</td>\n",
              "      <td>...</td>\n",
              "      <td>910</td>\n",
              "      <td>1965</td>\n",
              "      <td>0</td>\n",
              "      <td>98136</td>\n",
              "      <td>47.5208</td>\n",
              "      <td>-122.393</td>\n",
              "      <td>1360</td>\n",
              "      <td>5000</td>\n",
              "      <td>12</td>\n",
              "      <td>2014</td>\n",
              "    </tr>\n",
              "    <tr>\n",
              "      <th>4</th>\n",
              "      <td>510000.0</td>\n",
              "      <td>3</td>\n",
              "      <td>2.00</td>\n",
              "      <td>1680</td>\n",
              "      <td>8080</td>\n",
              "      <td>1.0</td>\n",
              "      <td>0</td>\n",
              "      <td>0</td>\n",
              "      <td>3</td>\n",
              "      <td>8</td>\n",
              "      <td>...</td>\n",
              "      <td>0</td>\n",
              "      <td>1987</td>\n",
              "      <td>0</td>\n",
              "      <td>98074</td>\n",
              "      <td>47.6168</td>\n",
              "      <td>-122.045</td>\n",
              "      <td>1800</td>\n",
              "      <td>7503</td>\n",
              "      <td>2</td>\n",
              "      <td>2015</td>\n",
              "    </tr>\n",
              "  </tbody>\n",
              "</table>\n",
              "<p>5 rows × 21 columns</p>\n",
              "</div>\n",
              "      <button class=\"colab-df-convert\" onclick=\"convertToInteractive('df-1ab6faf9-5fa6-47ec-a4fd-eebf456530b2')\"\n",
              "              title=\"Convert this dataframe to an interactive table.\"\n",
              "              style=\"display:none;\">\n",
              "        \n",
              "  <svg xmlns=\"http://www.w3.org/2000/svg\" height=\"24px\"viewBox=\"0 0 24 24\"\n",
              "       width=\"24px\">\n",
              "    <path d=\"M0 0h24v24H0V0z\" fill=\"none\"/>\n",
              "    <path d=\"M18.56 5.44l.94 2.06.94-2.06 2.06-.94-2.06-.94-.94-2.06-.94 2.06-2.06.94zm-11 1L8.5 8.5l.94-2.06 2.06-.94-2.06-.94L8.5 2.5l-.94 2.06-2.06.94zm10 10l.94 2.06.94-2.06 2.06-.94-2.06-.94-.94-2.06-.94 2.06-2.06.94z\"/><path d=\"M17.41 7.96l-1.37-1.37c-.4-.4-.92-.59-1.43-.59-.52 0-1.04.2-1.43.59L10.3 9.45l-7.72 7.72c-.78.78-.78 2.05 0 2.83L4 21.41c.39.39.9.59 1.41.59.51 0 1.02-.2 1.41-.59l7.78-7.78 2.81-2.81c.8-.78.8-2.07 0-2.86zM5.41 20L4 18.59l7.72-7.72 1.47 1.35L5.41 20z\"/>\n",
              "  </svg>\n",
              "      </button>\n",
              "      \n",
              "  <style>\n",
              "    .colab-df-container {\n",
              "      display:flex;\n",
              "      flex-wrap:wrap;\n",
              "      gap: 12px;\n",
              "    }\n",
              "\n",
              "    .colab-df-convert {\n",
              "      background-color: #E8F0FE;\n",
              "      border: none;\n",
              "      border-radius: 50%;\n",
              "      cursor: pointer;\n",
              "      display: none;\n",
              "      fill: #1967D2;\n",
              "      height: 32px;\n",
              "      padding: 0 0 0 0;\n",
              "      width: 32px;\n",
              "    }\n",
              "\n",
              "    .colab-df-convert:hover {\n",
              "      background-color: #E2EBFA;\n",
              "      box-shadow: 0px 1px 2px rgba(60, 64, 67, 0.3), 0px 1px 3px 1px rgba(60, 64, 67, 0.15);\n",
              "      fill: #174EA6;\n",
              "    }\n",
              "\n",
              "    [theme=dark] .colab-df-convert {\n",
              "      background-color: #3B4455;\n",
              "      fill: #D2E3FC;\n",
              "    }\n",
              "\n",
              "    [theme=dark] .colab-df-convert:hover {\n",
              "      background-color: #434B5C;\n",
              "      box-shadow: 0px 1px 3px 1px rgba(0, 0, 0, 0.15);\n",
              "      filter: drop-shadow(0px 1px 2px rgba(0, 0, 0, 0.3));\n",
              "      fill: #FFFFFF;\n",
              "    }\n",
              "  </style>\n",
              "\n",
              "      <script>\n",
              "        const buttonEl =\n",
              "          document.querySelector('#df-1ab6faf9-5fa6-47ec-a4fd-eebf456530b2 button.colab-df-convert');\n",
              "        buttonEl.style.display =\n",
              "          google.colab.kernel.accessAllowed ? 'block' : 'none';\n",
              "\n",
              "        async function convertToInteractive(key) {\n",
              "          const element = document.querySelector('#df-1ab6faf9-5fa6-47ec-a4fd-eebf456530b2');\n",
              "          const dataTable =\n",
              "            await google.colab.kernel.invokeFunction('convertToInteractive',\n",
              "                                                     [key], {});\n",
              "          if (!dataTable) return;\n",
              "\n",
              "          const docLinkHtml = 'Like what you see? Visit the ' +\n",
              "            '<a target=\"_blank\" href=https://colab.research.google.com/notebooks/data_table.ipynb>data table notebook</a>'\n",
              "            + ' to learn more about interactive tables.';\n",
              "          element.innerHTML = '';\n",
              "          dataTable['output_type'] = 'display_data';\n",
              "          await google.colab.output.renderOutput(dataTable, element);\n",
              "          const docLink = document.createElement('div');\n",
              "          docLink.innerHTML = docLinkHtml;\n",
              "          element.appendChild(docLink);\n",
              "        }\n",
              "      </script>\n",
              "    </div>\n",
              "  </div>\n",
              "  "
            ]
          },
          "metadata": {},
          "execution_count": 67
        }
      ]
    },
    {
      "cell_type": "code",
      "source": [
        "plt.figure(figsize=(10,6))\n",
        "sns.boxplot(x='year', y='price', data=df)"
      ],
      "metadata": {
        "colab": {
          "base_uri": "https://localhost:8080/",
          "height": 416
        },
        "id": "jvGHZFTlKpxB",
        "outputId": "9f0e2a3f-4368-4afd-82f1-7d42406a94be"
      },
      "execution_count": 68,
      "outputs": [
        {
          "output_type": "execute_result",
          "data": {
            "text/plain": [
              "<matplotlib.axes._subplots.AxesSubplot at 0x7f12fc33c290>"
            ]
          },
          "metadata": {},
          "execution_count": 68
        },
        {
          "output_type": "display_data",
          "data": {
            "text/plain": [
              "<Figure size 720x432 with 1 Axes>"
            ],
            "image/png": "[encoded data removed]"
          },
          "metadata": {
            "needs_background": "light"
          }
        }
      ]
    },
    {
      "cell_type": "code",
      "source": [
        "plt.figure(figsize=(10,6))\n",
        "sns.boxplot(x='month', y='price', data=df)"
      ],
      "metadata": {
        "colab": {
          "base_uri": "https://localhost:8080/",
          "height": 416
        },
        "id": "f0_nE699LH09",
        "outputId": "95271a11-02fa-4acb-bb5d-bb8a930479e9"
      },
      "execution_count": 69,
      "outputs": [
        {
          "output_type": "execute_result",
          "data": {
            "text/plain": [
              "<matplotlib.axes._subplots.AxesSubplot at 0x7f12fc1ae090>"
            ]
          },
          "metadata": {},
          "execution_count": 69
        },
        {
          "output_type": "display_data",
          "data": {
            "text/plain": [
              "<Figure size 720x432 with 1 Axes>"
            ],
            "image/png": "[encoded data removed]"
          },
          "metadata": {
            "needs_background": "light"
          }
        }
      ]
    },
    {
      "cell_type": "code",
      "source": [
        "# Since all the boxplot in the month and year look similar\n",
        "# We can groupby similar months and then plot various price range\n",
        "\n",
        "df.groupby('month').mean()['price'].plot()"
      ],
      "metadata": {
        "colab": {
          "base_uri": "https://localhost:8080/",
          "height": 296
        },
        "id": "oZFsf9kPLR1G",
        "outputId": "411835ce-0079-45b0-d452-ed8f2fbe233e"
      },
      "execution_count": 70,
      "outputs": [
        {
          "output_type": "execute_result",
          "data": {
            "text/plain": [
              "<matplotlib.axes._subplots.AxesSubplot at 0x7f12fcb81d10>"
            ]
          },
          "metadata": {},
          "execution_count": 70
        },
        {
          "output_type": "display_data",
          "data": {
            "text/plain": [
              "<Figure size 432x288 with 1 Axes>"
            ],
            "image/png": "[encoded data removed]"
          },
          "metadata": {
            "needs_background": "light"
          }
        }
      ]
    },
    {
      "cell_type": "code",
      "source": [
        "df.groupby('year').mean()['price'].plot()"
      ],
      "metadata": {
        "colab": {
          "base_uri": "https://localhost:8080/",
          "height": 296
        },
        "id": "DMSH3O2iMJbs",
        "outputId": "a18bc735-6acd-4242-a447-3305759186b1"
      },
      "execution_count": 71,
      "outputs": [
        {
          "output_type": "execute_result",
          "data": {
            "text/plain": [
              "<matplotlib.axes._subplots.AxesSubplot at 0x7f13003d0510>"
            ]
          },
          "metadata": {},
          "execution_count": 71
        },
        {
          "output_type": "display_data",
          "data": {
            "text/plain": [
              "<Figure size 432x288 with 1 Axes>"
            ],
            "image/png": "[encoded data removed]"
          },
          "metadata": {
            "needs_background": "light"
          }
        }
      ]
    },
    {
      "cell_type": "code",
      "source": [
        "plt.figure(figsize=(10,6))\n",
        "sns.scatterplot(x=df.price, y=df.long)"
      ],
      "metadata": {
        "colab": {
          "base_uri": "https://localhost:8080/",
          "height": 405
        },
        "id": "DKQaDPcfIz8P",
        "outputId": "6fb4cd90-b72b-4170-d7be-e5c6f09574b3"
      },
      "execution_count": 72,
      "outputs": [
        {
          "output_type": "execute_result",
          "data": {
            "text/plain": [
              "<matplotlib.axes._subplots.AxesSubplot at 0x7f13060fe210>"
            ]
          },
          "metadata": {},
          "execution_count": 72
        },
        {
          "output_type": "display_data",
          "data": {
            "text/plain": [
              "<Figure size 720x432 with 1 Axes>"
            ],
            "image/png": "[encoded data removed]"
          },
          "metadata": {
            "needs_background": "light"
          }
        }
      ]
    },
    {
      "cell_type": "code",
      "source": [
        "plt.figure(figsize=(10,6))\n",
        "sns.scatterplot(x=df.price, y=df.lat)"
      ],
      "metadata": {
        "colab": {
          "base_uri": "https://localhost:8080/",
          "height": 405
        },
        "id": "ZWSs-NYnJWE3",
        "outputId": "4b7bd642-5ec6-4ca6-b236-47585db884bc"
      },
      "execution_count": 73,
      "outputs": [
        {
          "output_type": "execute_result",
          "data": {
            "text/plain": [
              "<matplotlib.axes._subplots.AxesSubplot at 0x7f12fbf46090>"
            ]
          },
          "metadata": {},
          "execution_count": 73
        },
        {
          "output_type": "display_data",
          "data": {
            "text/plain": [
              "<Figure size 720x432 with 1 Axes>"
            ],
            "image/png": "[encoded data removed]"
          },
          "metadata": {
            "needs_background": "light"
          }
        }
      ]
    },
    {
      "cell_type": "code",
      "source": [
        "plt.figure(figsize=(12,8))\n",
        "sns.distplot(df['price'])"
      ],
      "metadata": {
        "colab": {
          "base_uri": "https://localhost:8080/",
          "height": 580
        },
        "id": "UxE3hbGUK2zs",
        "outputId": "dcb90200-be46-4941-f769-8737fa6c97b1"
      },
      "execution_count": 74,
      "outputs": [
        {
          "output_type": "stream",
          "name": "stderr",
          "text": [
            "/usr/local/lib/python3.7/dist-packages/seaborn/distributions.py:2619: FutureWarning: `distplot` is a deprecated function and will be removed in a future version. Please adapt your code to use either `displot` (a figure-level function with similar flexibility) or `histplot` (an axes-level function for histograms).\n",
            "  warnings.warn(msg, FutureWarning)\n"
          ]
        },
        {
          "output_type": "execute_result",
          "data": {
            "text/plain": [
              "<matplotlib.axes._subplots.AxesSubplot at 0x7f12fbf40790>"
            ]
          },
          "metadata": {},
          "execution_count": 74
        },
        {
          "output_type": "display_data",
          "data": {
            "text/plain": [
              "<Figure size 864x576 with 1 Axes>"
            ],
            "image/png": "[encoded data removed]"
          },
          "metadata": {
            "needs_background": "light"
          }
        }
      ]
    },
    {
      "cell_type": "code",
      "source": [
        "plt.figure(figsize=(12,8))\n",
        "sns.countplot(df['bedrooms'])"
      ],
      "metadata": {
        "colab": {
          "base_uri": "https://localhost:8080/",
          "height": 569
        },
        "id": "Mga2f2PqNyyW",
        "outputId": "7bf2c53f-8497-47de-c5ad-4b7c26109a6c"
      },
      "execution_count": 75,
      "outputs": [
        {
          "output_type": "stream",
          "name": "stderr",
          "text": [
            "/usr/local/lib/python3.7/dist-packages/seaborn/_decorators.py:43: FutureWarning: Pass the following variable as a keyword arg: x. From version 0.12, the only valid positional argument will be `data`, and passing other arguments without an explicit keyword will result in an error or misinterpretation.\n",
            "  FutureWarning\n"
          ]
        },
        {
          "output_type": "execute_result",
          "data": {
            "text/plain": [
              "<matplotlib.axes._subplots.AxesSubplot at 0x7f12fbe1a810>"
            ]
          },
          "metadata": {},
          "execution_count": 75
        },
        {
          "output_type": "display_data",
          "data": {
            "text/plain": [
              "<Figure size 864x576 with 1 Axes>"
            ],
            "image/png": "[encoded data removed]"
          },
          "metadata": {
            "needs_background": "light"
          }
        }
      ]
    },
    {
      "cell_type": "code",
      "source": [
        "plt.figure(figsize=(12,8))\n",
        "sns.countplot(df['bathrooms'])"
      ],
      "metadata": {
        "colab": {
          "base_uri": "https://localhost:8080/",
          "height": 569
        },
        "id": "2pGitLQBV-X5",
        "outputId": "e4b8d4b9-b910-4e01-a9e7-37c69724f76a"
      },
      "execution_count": 76,
      "outputs": [
        {
          "output_type": "stream",
          "name": "stderr",
          "text": [
            "/usr/local/lib/python3.7/dist-packages/seaborn/_decorators.py:43: FutureWarning: Pass the following variable as a keyword arg: x. From version 0.12, the only valid positional argument will be `data`, and passing other arguments without an explicit keyword will result in an error or misinterpretation.\n",
            "  FutureWarning\n"
          ]
        },
        {
          "output_type": "execute_result",
          "data": {
            "text/plain": [
              "<matplotlib.axes._subplots.AxesSubplot at 0x7f12fbdd7090>"
            ]
          },
          "metadata": {},
          "execution_count": 76
        },
        {
          "output_type": "display_data",
          "data": {
            "text/plain": [
              "<Figure size 864x576 with 1 Axes>"
            ],
            "image/png": "[encoded data removed]"
          },
          "metadata": {
            "needs_background": "light"
          }
        }
      ]
    },
    {
      "cell_type": "code",
      "source": [
        "plt.figure(figsize=(12,8))\n",
        "sns.scatterplot(x=df.price, y=df.sqft_living, data=df)"
      ],
      "metadata": {
        "colab": {
          "base_uri": "https://localhost:8080/",
          "height": 514
        },
        "id": "OLLju9BYWkB3",
        "outputId": "cbbf2bfe-6493-4b96-96af-b44924f3e297"
      },
      "execution_count": 77,
      "outputs": [
        {
          "output_type": "execute_result",
          "data": {
            "text/plain": [
              "<matplotlib.axes._subplots.AxesSubplot at 0x7f12fbf205d0>"
            ]
          },
          "metadata": {},
          "execution_count": 77
        },
        {
          "output_type": "display_data",
          "data": {
            "text/plain": [
              "<Figure size 864x576 with 1 Axes>"
            ],
            "image/png": "[encoded data removed]"
          },
          "metadata": {
            "needs_background": "light"
          }
        }
      ]
    },
    {
      "cell_type": "code",
      "source": [
        "plt.figure(figsize=(12,8))\n",
        "sns.boxplot(x=df.bedrooms, y=df.price)"
      ],
      "metadata": {
        "colab": {
          "base_uri": "https://localhost:8080/",
          "height": 525
        },
        "id": "5kn00mBKXBcb",
        "outputId": "056c5603-b1c6-4135-b9af-0810dab11340"
      },
      "execution_count": 78,
      "outputs": [
        {
          "output_type": "execute_result",
          "data": {
            "text/plain": [
              "<matplotlib.axes._subplots.AxesSubplot at 0x7f12fbd7e210>"
            ]
          },
          "metadata": {},
          "execution_count": 78
        },
        {
          "output_type": "display_data",
          "data": {
            "text/plain": [
              "<Figure size 864x576 with 1 Axes>"
            ],
            "image/png": "[encoded data removed]"
          },
          "metadata": {
            "needs_background": "light"
          }
        }
      ]
    },
    {
      "cell_type": "code",
      "source": [
        "# returns number of zip code available in the dataset.\n",
        "\n",
        "df['zipcode'].value_counts()"
      ],
      "metadata": {
        "colab": {
          "base_uri": "https://localhost:8080/"
        },
        "id": "7xKmyTkoaWrN",
        "outputId": "e841589c-863f-42f6-bacf-1f9201c7d0bf"
      },
      "execution_count": 79,
      "outputs": [
        {
          "output_type": "execute_result",
          "data": {
            "text/plain": [
              "98103    602\n",
              "98038    589\n",
              "98115    583\n",
              "98052    574\n",
              "98117    553\n",
              "        ... \n",
              "98102    104\n",
              "98010    100\n",
              "98024     80\n",
              "98148     57\n",
              "98039     50\n",
              "Name: zipcode, Length: 70, dtype: int64"
            ]
          },
          "metadata": {},
          "execution_count": 79
        }
      ]
    },
    {
      "cell_type": "code",
      "source": [
        "# 70 zip code may cause some deviation in prediction.\n",
        "# We can drop the values then\n",
        "\n",
        "df = df.drop('zipcode', axis=1)"
      ],
      "metadata": {
        "id": "LjKeQLqjM5uD"
      },
      "execution_count": 80,
      "outputs": []
    },
    {
      "cell_type": "code",
      "source": [
        "df.shape"
      ],
      "metadata": {
        "colab": {
          "base_uri": "https://localhost:8080/"
        },
        "id": "OF4gW5OswgoN",
        "outputId": "622bb516-8e56-49d7-9337-c778d56218e6"
      },
      "execution_count": 81,
      "outputs": [
        {
          "output_type": "execute_result",
          "data": {
            "text/plain": [
              "(21597, 20)"
            ]
          },
          "metadata": {},
          "execution_count": 81
        }
      ]
    },
    {
      "cell_type": "markdown",
      "source": [
        "### Splitting the dataset to training and testing data"
      ],
      "metadata": {
        "id": "lgYxxvI8yVFP"
      }
    },
    {
      "cell_type": "code",
      "source": [
        "X = df.drop('price', axis=1)\n",
        "y = df['price']"
      ],
      "metadata": {
        "id": "TGatrH0wylcf"
      },
      "execution_count": 82,
      "outputs": []
    },
    {
      "cell_type": "code",
      "source": [
        "from sklearn.model_selection import train_test_split\n",
        "\n",
        "X_train, X_test, y_train, y_test = train_test_split(X, y, test_size=0.30, random_state=101)"
      ],
      "metadata": {
        "id": "lkz_NMqyyUeh"
      },
      "execution_count": 83,
      "outputs": []
    },
    {
      "cell_type": "markdown",
      "source": [
        "### Normalizing or Scaling of data"
      ],
      "metadata": {
        "id": "URYX69A80FGH"
      }
    },
    {
      "cell_type": "code",
      "source": [
        "from sklearn.preprocessing import MinMaxScaler\n",
        "\n",
        "scalar = MinMaxScaler()"
      ],
      "metadata": {
        "id": "xcwf-GdV0KEJ"
      },
      "execution_count": 84,
      "outputs": []
    },
    {
      "cell_type": "code",
      "source": [
        "X_train = scalar.fit_transform(X_train)"
      ],
      "metadata": {
        "id": "LaBTnVsv0USN"
      },
      "execution_count": 85,
      "outputs": []
    },
    {
      "cell_type": "code",
      "source": [
        "X_test = scalar.transform(X_test)"
      ],
      "metadata": {
        "id": "O2KPa7DS0gGP"
      },
      "execution_count": 86,
      "outputs": []
    },
    {
      "cell_type": "markdown",
      "source": [
        "### Model Creation and Execution"
      ],
      "metadata": {
        "id": "WGdYKn0PvuLe"
      }
    },
    {
      "cell_type": "code",
      "source": [
        "import tensorflow\n",
        "from tensorflow.keras.models import Sequential\n",
        "from tensorflow.keras.layers import Dense"
      ],
      "metadata": {
        "id": "Kh5jEKBxNxHA"
      },
      "execution_count": 87,
      "outputs": []
    },
    {
      "cell_type": "code",
      "source": [
        "model = Sequential()\n",
        "model.add(Dense(units=20, activation='relu')) #fully connected networks\n",
        "model.add(Dense(units=20, activation='relu'))\n",
        "model.add(Dense(units=20, activation='relu'))\n",
        "model.add(Dense(units=20, activation='relu'))\n",
        "\n",
        "model.add(Dense(units=1)) #output layer"
      ],
      "metadata": {
        "id": "8ROWmvQFwCPs"
      },
      "execution_count": 88,
      "outputs": []
    },
    {
      "cell_type": "code",
      "source": [
        "model.compile(optimizer='adam',\n",
        "              loss='mse')"
      ],
      "metadata": {
        "id": "_9Ipu0MUw18s"
      },
      "execution_count": 97,
      "outputs": []
    },
    {
      "cell_type": "code",
      "source": [
        "model.fit(X_train, y_train,\n",
        "          validation_data=(X_test, y_test),\n",
        "          batch_size = 128,\n",
        "          epochs = 400)"
      ],
      "metadata": {
        "colab": {
          "base_uri": "https://localhost:8080/"
        },
        "id": "1UY0OtNSx6Ir",
        "outputId": "20e6bb4b-630d-4bcf-ad70-2e3235e551dc"
      },
      "execution_count": 98,
      "outputs": [
        {
          "output_type": "stream",
          "name": "stdout",
          "text": [
            "Epoch 1/400\n",
            "119/119 [==============================] - 1s 4ms/step - loss: 29480790016.0000 - val_loss: 27127158784.0000\n",
            "Epoch 2/400\n",
            "119/119 [==============================] - 0s 3ms/step - loss: 29437767680.0000 - val_loss: 27113295872.0000\n",
            "Epoch 3/400\n",
            "119/119 [==============================] - 0s 3ms/step - loss: 29432582144.0000 - val_loss: 27128340480.0000\n",
            "Epoch 4/400\n",
            "119/119 [==============================] - 0s 3ms/step - loss: 29405020160.0000 - val_loss: 27201153024.0000\n",
            "Epoch 5/400\n",
            "119/119 [==============================] - 0s 3ms/step - loss: 29558964224.0000 - val_loss: 27111608320.0000\n",
            "Epoch 6/400\n",
            "119/119 [==============================] - 0s 3ms/step - loss: 29371299840.0000 - val_loss: 27119517696.0000\n",
            "Epoch 7/400\n",
            "119/119 [==============================] - 0s 3ms/step - loss: 29368817664.0000 - val_loss: 27061981184.0000\n",
            "Epoch 8/400\n",
            "119/119 [==============================] - 0s 3ms/step - loss: 29398816768.0000 - val_loss: 27101489152.0000\n",
            "Epoch 9/400\n",
            "119/119 [==============================] - 0s 3ms/step - loss: 29403875328.0000 - val_loss: 27167248384.0000\n",
            "Epoch 10/400\n",
            "119/119 [==============================] - 0s 3ms/step - loss: 29363419136.0000 - val_loss: 27048183808.0000\n",
            "Epoch 11/400\n",
            "119/119 [==============================] - 0s 3ms/step - loss: 29375700992.0000 - val_loss: 27229814784.0000\n",
            "Epoch 12/400\n",
            "119/119 [==============================] - 0s 3ms/step - loss: 29372655616.0000 - val_loss: 27016456192.0000\n",
            "Epoch 13/400\n",
            "119/119 [==============================] - 0s 3ms/step - loss: 29351274496.0000 - val_loss: 27003877376.0000\n",
            "Epoch 14/400\n",
            "119/119 [==============================] - 0s 3ms/step - loss: 29302691840.0000 - val_loss: 27080456192.0000\n",
            "Epoch 15/400\n",
            "119/119 [==============================] - 0s 3ms/step - loss: 29331118080.0000 - val_loss: 27075680256.0000\n",
            "Epoch 16/400\n",
            "119/119 [==============================] - 0s 3ms/step - loss: 29325948928.0000 - val_loss: 27018854400.0000\n",
            "Epoch 17/400\n",
            "119/119 [==============================] - 0s 3ms/step - loss: 29358942208.0000 - val_loss: 26987513856.0000\n",
            "Epoch 18/400\n",
            "119/119 [==============================] - 0s 2ms/step - loss: 29300912128.0000 - val_loss: 26998169600.0000\n",
            "Epoch 19/400\n",
            "119/119 [==============================] - 0s 3ms/step - loss: 29304002560.0000 - val_loss: 26932674560.0000\n",
            "Epoch 20/400\n",
            "119/119 [==============================] - 0s 3ms/step - loss: 29279014912.0000 - val_loss: 26972987392.0000\n",
            "Epoch 21/400\n",
            "119/119 [==============================] - 0s 3ms/step - loss: 29248505856.0000 - val_loss: 26968950784.0000\n",
            "Epoch 22/400\n",
            "119/119 [==============================] - 0s 3ms/step - loss: 29258809344.0000 - val_loss: 26944716800.0000\n",
            "Epoch 23/400\n",
            "119/119 [==============================] - 0s 3ms/step - loss: 29253406720.0000 - val_loss: 26932652032.0000\n",
            "Epoch 24/400\n",
            "119/119 [==============================] - 0s 3ms/step - loss: 29273217024.0000 - val_loss: 26922039296.0000\n",
            "Epoch 25/400\n",
            "119/119 [==============================] - 0s 3ms/step - loss: 29259063296.0000 - val_loss: 26898896896.0000\n",
            "Epoch 26/400\n",
            "119/119 [==============================] - 0s 3ms/step - loss: 29227694080.0000 - val_loss: 26898440192.0000\n",
            "Epoch 27/400\n",
            "119/119 [==============================] - 0s 3ms/step - loss: 29225218048.0000 - val_loss: 26900461568.0000\n",
            "Epoch 28/400\n",
            "119/119 [==============================] - 0s 3ms/step - loss: 29185417216.0000 - val_loss: 26862950400.0000\n",
            "Epoch 29/400\n",
            "119/119 [==============================] - 0s 4ms/step - loss: 29210744832.0000 - val_loss: 26843803648.0000\n",
            "Epoch 30/400\n",
            "119/119 [==============================] - 0s 3ms/step - loss: 29223522304.0000 - val_loss: 26837921792.0000\n",
            "Epoch 31/400\n",
            "119/119 [==============================] - 0s 3ms/step - loss: 29190105088.0000 - val_loss: 26923315200.0000\n",
            "Epoch 32/400\n",
            "119/119 [==============================] - 0s 3ms/step - loss: 29206859776.0000 - val_loss: 26816712704.0000\n",
            "Epoch 33/400\n",
            "119/119 [==============================] - 0s 3ms/step - loss: 29180260352.0000 - val_loss: 26796519424.0000\n",
            "Epoch 34/400\n",
            "119/119 [==============================] - 0s 3ms/step - loss: 29229105152.0000 - val_loss: 26846502912.0000\n",
            "Epoch 35/400\n",
            "119/119 [==============================] - 0s 3ms/step - loss: 29144676352.0000 - val_loss: 26802462720.0000\n",
            "Epoch 36/400\n",
            "119/119 [==============================] - 0s 3ms/step - loss: 29128050688.0000 - val_loss: 26972254208.0000\n",
            "Epoch 37/400\n",
            "119/119 [==============================] - 0s 3ms/step - loss: 29139812352.0000 - val_loss: 26782132224.0000\n",
            "Epoch 38/400\n",
            "119/119 [==============================] - 0s 3ms/step - loss: 29125838848.0000 - val_loss: 26789058560.0000\n",
            "Epoch 39/400\n",
            "119/119 [==============================] - 0s 3ms/step - loss: 29123977216.0000 - val_loss: 26749612032.0000\n",
            "Epoch 40/400\n",
            "119/119 [==============================] - 0s 3ms/step - loss: 29133680640.0000 - val_loss: 26757310464.0000\n",
            "Epoch 41/400\n",
            "119/119 [==============================] - 0s 3ms/step - loss: 29161287680.0000 - val_loss: 26713952256.0000\n",
            "Epoch 42/400\n",
            "119/119 [==============================] - 0s 3ms/step - loss: 29069940736.0000 - val_loss: 26728478720.0000\n",
            "Epoch 43/400\n",
            "119/119 [==============================] - 0s 3ms/step - loss: 29087035392.0000 - val_loss: 26692956160.0000\n",
            "Epoch 44/400\n",
            "119/119 [==============================] - 0s 3ms/step - loss: 29077891072.0000 - val_loss: 26728740864.0000\n",
            "Epoch 45/400\n",
            "119/119 [==============================] - 0s 3ms/step - loss: 29065523200.0000 - val_loss: 26783944704.0000\n",
            "Epoch 46/400\n",
            "119/119 [==============================] - 0s 3ms/step - loss: 29080348672.0000 - val_loss: 26686717952.0000\n",
            "Epoch 47/400\n",
            "119/119 [==============================] - 0s 3ms/step - loss: 29018621952.0000 - val_loss: 26656233472.0000\n",
            "Epoch 48/400\n",
            "119/119 [==============================] - 0s 3ms/step - loss: 29039611904.0000 - val_loss: 26638948352.0000\n",
            "Epoch 49/400\n",
            "119/119 [==============================] - 0s 3ms/step - loss: 29024366592.0000 - val_loss: 26609889280.0000\n",
            "Epoch 50/400\n",
            "119/119 [==============================] - 0s 3ms/step - loss: 28993261568.0000 - val_loss: 26723295232.0000\n",
            "Epoch 51/400\n",
            "119/119 [==============================] - 0s 3ms/step - loss: 29001877504.0000 - val_loss: 26599739392.0000\n",
            "Epoch 52/400\n",
            "119/119 [==============================] - 0s 3ms/step - loss: 29008166912.0000 - val_loss: 26585124864.0000\n",
            "Epoch 53/400\n",
            "119/119 [==============================] - 0s 3ms/step - loss: 28967675904.0000 - val_loss: 26715611136.0000\n",
            "Epoch 54/400\n",
            "119/119 [==============================] - 0s 3ms/step - loss: 28982849536.0000 - val_loss: 26590494720.0000\n",
            "Epoch 55/400\n",
            "119/119 [==============================] - 0s 3ms/step - loss: 29007566848.0000 - val_loss: 26546534400.0000\n",
            "Epoch 56/400\n",
            "119/119 [==============================] - 0s 3ms/step - loss: 28966049792.0000 - val_loss: 26607060992.0000\n",
            "Epoch 57/400\n",
            "119/119 [==============================] - 0s 3ms/step - loss: 28986146816.0000 - val_loss: 26535745536.0000\n",
            "Epoch 58/400\n",
            "119/119 [==============================] - 0s 3ms/step - loss: 28934389760.0000 - val_loss: 26588948480.0000\n",
            "Epoch 59/400\n",
            "119/119 [==============================] - 0s 3ms/step - loss: 28908548096.0000 - val_loss: 26527279104.0000\n",
            "Epoch 60/400\n",
            "119/119 [==============================] - 0s 3ms/step - loss: 28913190912.0000 - val_loss: 26502289408.0000\n",
            "Epoch 61/400\n",
            "119/119 [==============================] - 0s 3ms/step - loss: 28925798400.0000 - val_loss: 26461038592.0000\n",
            "Epoch 62/400\n",
            "119/119 [==============================] - 0s 3ms/step - loss: 28907866112.0000 - val_loss: 26472337408.0000\n",
            "Epoch 63/400\n",
            "119/119 [==============================] - 0s 4ms/step - loss: 28915111936.0000 - val_loss: 26465144832.0000\n",
            "Epoch 64/400\n",
            "119/119 [==============================] - 0s 4ms/step - loss: 28880859136.0000 - val_loss: 26504759296.0000\n",
            "Epoch 65/400\n",
            "119/119 [==============================] - 0s 3ms/step - loss: 28878551040.0000 - val_loss: 26466777088.0000\n",
            "Epoch 66/400\n",
            "119/119 [==============================] - 0s 3ms/step - loss: 28911560704.0000 - val_loss: 26443038720.0000\n",
            "Epoch 67/400\n",
            "119/119 [==============================] - 0s 3ms/step - loss: 28873033728.0000 - val_loss: 26453837824.0000\n",
            "Epoch 68/400\n",
            "119/119 [==============================] - 0s 4ms/step - loss: 28892299264.0000 - val_loss: 26432256000.0000\n",
            "Epoch 69/400\n",
            "119/119 [==============================] - 0s 3ms/step - loss: 28861628416.0000 - val_loss: 26514259968.0000\n",
            "Epoch 70/400\n",
            "119/119 [==============================] - 0s 3ms/step - loss: 28855252992.0000 - val_loss: 26420822016.0000\n",
            "Epoch 71/400\n",
            "119/119 [==============================] - 0s 3ms/step - loss: 28819015680.0000 - val_loss: 26365708288.0000\n",
            "Epoch 72/400\n",
            "119/119 [==============================] - 0s 3ms/step - loss: 28825147392.0000 - val_loss: 26384494592.0000\n",
            "Epoch 73/400\n",
            "119/119 [==============================] - 0s 3ms/step - loss: 28804292608.0000 - val_loss: 26545729536.0000\n",
            "Epoch 74/400\n",
            "119/119 [==============================] - 0s 3ms/step - loss: 28850528256.0000 - val_loss: 26333083648.0000\n",
            "Epoch 75/400\n",
            "119/119 [==============================] - 0s 3ms/step - loss: 28795234304.0000 - val_loss: 26359760896.0000\n",
            "Epoch 76/400\n",
            "119/119 [==============================] - 0s 3ms/step - loss: 28792268800.0000 - val_loss: 26327961600.0000\n",
            "Epoch 77/400\n",
            "119/119 [==============================] - 0s 3ms/step - loss: 28795400192.0000 - val_loss: 26346268672.0000\n",
            "Epoch 78/400\n",
            "119/119 [==============================] - 0s 3ms/step - loss: 28771907584.0000 - val_loss: 26531420160.0000\n",
            "Epoch 79/400\n",
            "119/119 [==============================] - 0s 3ms/step - loss: 28795705344.0000 - val_loss: 26408144896.0000\n",
            "Epoch 80/400\n",
            "119/119 [==============================] - 0s 3ms/step - loss: 28791949312.0000 - val_loss: 26310995968.0000\n",
            "Epoch 81/400\n",
            "119/119 [==============================] - 0s 3ms/step - loss: 28759773184.0000 - val_loss: 26287466496.0000\n",
            "Epoch 82/400\n",
            "119/119 [==============================] - 0s 3ms/step - loss: 28724131840.0000 - val_loss: 26311176192.0000\n",
            "Epoch 83/400\n",
            "119/119 [==============================] - 0s 3ms/step - loss: 28753913856.0000 - val_loss: 26281682944.0000\n",
            "Epoch 84/400\n",
            "119/119 [==============================] - 0s 3ms/step - loss: 28702777344.0000 - val_loss: 26292191232.0000\n",
            "Epoch 85/400\n",
            "119/119 [==============================] - 0s 3ms/step - loss: 28738781184.0000 - val_loss: 26262439936.0000\n",
            "Epoch 86/400\n",
            "119/119 [==============================] - 0s 3ms/step - loss: 28692047872.0000 - val_loss: 26252500992.0000\n",
            "Epoch 87/400\n",
            "119/119 [==============================] - 0s 3ms/step - loss: 28691904512.0000 - val_loss: 26273980416.0000\n",
            "Epoch 88/400\n",
            "119/119 [==============================] - 0s 3ms/step - loss: 28715288576.0000 - val_loss: 26264842240.0000\n",
            "Epoch 89/400\n",
            "119/119 [==============================] - 0s 3ms/step - loss: 28705994752.0000 - val_loss: 26243418112.0000\n",
            "Epoch 90/400\n",
            "119/119 [==============================] - 0s 3ms/step - loss: 28653979648.0000 - val_loss: 26229872640.0000\n",
            "Epoch 91/400\n",
            "119/119 [==============================] - 0s 3ms/step - loss: 28654895104.0000 - val_loss: 26203039744.0000\n",
            "Epoch 92/400\n",
            "119/119 [==============================] - 0s 3ms/step - loss: 28649181184.0000 - val_loss: 26211153920.0000\n",
            "Epoch 93/400\n",
            "119/119 [==============================] - 0s 3ms/step - loss: 28641980416.0000 - val_loss: 26184024064.0000\n",
            "Epoch 94/400\n",
            "119/119 [==============================] - 0s 3ms/step - loss: 28623425536.0000 - val_loss: 26210830336.0000\n",
            "Epoch 95/400\n",
            "119/119 [==============================] - 0s 3ms/step - loss: 28652931072.0000 - val_loss: 26207019008.0000\n",
            "Epoch 96/400\n",
            "119/119 [==============================] - 0s 3ms/step - loss: 28594384896.0000 - val_loss: 26358611968.0000\n",
            "Epoch 97/400\n",
            "119/119 [==============================] - 0s 3ms/step - loss: 28646938624.0000 - val_loss: 26170597376.0000\n",
            "Epoch 98/400\n",
            "119/119 [==============================] - 0s 4ms/step - loss: 28648122368.0000 - val_loss: 26167283712.0000\n",
            "Epoch 99/400\n",
            "119/119 [==============================] - 0s 3ms/step - loss: 28600428544.0000 - val_loss: 26306080768.0000\n",
            "Epoch 100/400\n",
            "119/119 [==============================] - 0s 3ms/step - loss: 28586883072.0000 - val_loss: 26092969984.0000\n",
            "Epoch 101/400\n",
            "119/119 [==============================] - 0s 3ms/step - loss: 28563920896.0000 - val_loss: 26116169728.0000\n",
            "Epoch 102/400\n",
            "119/119 [==============================] - 0s 3ms/step - loss: 28560492544.0000 - val_loss: 26084663296.0000\n",
            "Epoch 103/400\n",
            "119/119 [==============================] - 0s 3ms/step - loss: 28542507008.0000 - val_loss: 26215565312.0000\n",
            "Epoch 104/400\n",
            "119/119 [==============================] - 0s 3ms/step - loss: 28550975488.0000 - val_loss: 26111924224.0000\n",
            "Epoch 105/400\n",
            "119/119 [==============================] - 0s 3ms/step - loss: 28527099904.0000 - val_loss: 26047262720.0000\n",
            "Epoch 106/400\n",
            "119/119 [==============================] - 0s 3ms/step - loss: 28533768192.0000 - val_loss: 26232344576.0000\n",
            "Epoch 107/400\n",
            "119/119 [==============================] - 0s 3ms/step - loss: 28502630400.0000 - val_loss: 26041257984.0000\n",
            "Epoch 108/400\n",
            "119/119 [==============================] - 0s 3ms/step - loss: 28517019648.0000 - val_loss: 26049280000.0000\n",
            "Epoch 109/400\n",
            "119/119 [==============================] - 0s 3ms/step - loss: 28523153408.0000 - val_loss: 25997062144.0000\n",
            "Epoch 110/400\n",
            "119/119 [==============================] - 0s 3ms/step - loss: 28545626112.0000 - val_loss: 26054385664.0000\n",
            "Epoch 111/400\n",
            "119/119 [==============================] - 0s 3ms/step - loss: 28476733440.0000 - val_loss: 26121844736.0000\n",
            "Epoch 112/400\n",
            "119/119 [==============================] - 0s 3ms/step - loss: 28464947200.0000 - val_loss: 26068629504.0000\n",
            "Epoch 113/400\n",
            "119/119 [==============================] - 0s 3ms/step - loss: 28464445440.0000 - val_loss: 25972514816.0000\n",
            "Epoch 114/400\n",
            "119/119 [==============================] - 0s 3ms/step - loss: 28534624256.0000 - val_loss: 25949618176.0000\n",
            "Epoch 115/400\n",
            "119/119 [==============================] - 0s 3ms/step - loss: 28420837376.0000 - val_loss: 26059898880.0000\n",
            "Epoch 116/400\n",
            "119/119 [==============================] - 0s 3ms/step - loss: 28447109120.0000 - val_loss: 25952165888.0000\n",
            "Epoch 117/400\n",
            "119/119 [==============================] - 0s 3ms/step - loss: 28440641536.0000 - val_loss: 25926772736.0000\n",
            "Epoch 118/400\n",
            "119/119 [==============================] - 0s 3ms/step - loss: 28423792640.0000 - val_loss: 25922852864.0000\n",
            "Epoch 119/400\n",
            "119/119 [==============================] - 0s 3ms/step - loss: 28424364032.0000 - val_loss: 25928802304.0000\n",
            "Epoch 120/400\n",
            "119/119 [==============================] - 0s 3ms/step - loss: 28408100864.0000 - val_loss: 26076360704.0000\n",
            "Epoch 121/400\n",
            "119/119 [==============================] - 0s 3ms/step - loss: 28389146624.0000 - val_loss: 25963927552.0000\n",
            "Epoch 122/400\n",
            "119/119 [==============================] - 0s 3ms/step - loss: 28381329408.0000 - val_loss: 25898278912.0000\n",
            "Epoch 123/400\n",
            "119/119 [==============================] - 0s 3ms/step - loss: 28464240640.0000 - val_loss: 25842323456.0000\n",
            "Epoch 124/400\n",
            "119/119 [==============================] - 0s 3ms/step - loss: 28376307712.0000 - val_loss: 25873340416.0000\n",
            "Epoch 125/400\n",
            "119/119 [==============================] - 0s 3ms/step - loss: 28356921344.0000 - val_loss: 25871355904.0000\n",
            "Epoch 126/400\n",
            "119/119 [==============================] - 0s 3ms/step - loss: 28365395968.0000 - val_loss: 25826576384.0000\n",
            "Epoch 127/400\n",
            "119/119 [==============================] - 0s 3ms/step - loss: 28377950208.0000 - val_loss: 25933725696.0000\n",
            "Epoch 128/400\n",
            "119/119 [==============================] - 0s 3ms/step - loss: 28331069440.0000 - val_loss: 25935470592.0000\n",
            "Epoch 129/400\n",
            "119/119 [==============================] - 0s 3ms/step - loss: 28337817600.0000 - val_loss: 25803286528.0000\n",
            "Epoch 130/400\n",
            "119/119 [==============================] - 0s 3ms/step - loss: 28362784768.0000 - val_loss: 25800218624.0000\n",
            "Epoch 131/400\n",
            "119/119 [==============================] - 0s 4ms/step - loss: 28344381440.0000 - val_loss: 25812002816.0000\n",
            "Epoch 132/400\n",
            "119/119 [==============================] - 0s 3ms/step - loss: 28296693760.0000 - val_loss: 25835472896.0000\n",
            "Epoch 133/400\n",
            "119/119 [==============================] - 0s 3ms/step - loss: 28294438912.0000 - val_loss: 25757253632.0000\n",
            "Epoch 134/400\n",
            "119/119 [==============================] - 0s 3ms/step - loss: 28262580224.0000 - val_loss: 25785786368.0000\n",
            "Epoch 135/400\n",
            "119/119 [==============================] - 0s 3ms/step - loss: 28234141696.0000 - val_loss: 25789276160.0000\n",
            "Epoch 136/400\n",
            "119/119 [==============================] - 0s 3ms/step - loss: 28263254016.0000 - val_loss: 25782200320.0000\n",
            "Epoch 137/400\n",
            "119/119 [==============================] - 0s 3ms/step - loss: 28224663552.0000 - val_loss: 25736271872.0000\n",
            "Epoch 138/400\n",
            "119/119 [==============================] - 0s 3ms/step - loss: 28271280128.0000 - val_loss: 25702639616.0000\n",
            "Epoch 139/400\n",
            "119/119 [==============================] - 0s 3ms/step - loss: 28253601792.0000 - val_loss: 25703260160.0000\n",
            "Epoch 140/400\n",
            "119/119 [==============================] - 0s 3ms/step - loss: 28262354944.0000 - val_loss: 25677654016.0000\n",
            "Epoch 141/400\n",
            "119/119 [==============================] - 0s 3ms/step - loss: 28216772608.0000 - val_loss: 25691490304.0000\n",
            "Epoch 142/400\n",
            "119/119 [==============================] - 0s 4ms/step - loss: 28203782144.0000 - val_loss: 25650063360.0000\n",
            "Epoch 143/400\n",
            "119/119 [==============================] - 0s 3ms/step - loss: 28201250816.0000 - val_loss: 25663395840.0000\n",
            "Epoch 144/400\n",
            "119/119 [==============================] - 0s 3ms/step - loss: 28180660224.0000 - val_loss: 25639954432.0000\n",
            "Epoch 145/400\n",
            "119/119 [==============================] - 0s 3ms/step - loss: 28174747648.0000 - val_loss: 25733072896.0000\n",
            "Epoch 146/400\n",
            "119/119 [==============================] - 0s 3ms/step - loss: 28159113216.0000 - val_loss: 25640542208.0000\n",
            "Epoch 147/400\n",
            "119/119 [==============================] - 0s 3ms/step - loss: 28181346304.0000 - val_loss: 25643638784.0000\n",
            "Epoch 148/400\n",
            "119/119 [==============================] - 0s 3ms/step - loss: 28151857152.0000 - val_loss: 25768331264.0000\n",
            "Epoch 149/400\n",
            "119/119 [==============================] - 0s 3ms/step - loss: 28173467648.0000 - val_loss: 25625952256.0000\n",
            "Epoch 150/400\n",
            "119/119 [==============================] - 0s 3ms/step - loss: 28159506432.0000 - val_loss: 25593438208.0000\n",
            "Epoch 151/400\n",
            "119/119 [==============================] - 0s 3ms/step - loss: 28138811392.0000 - val_loss: 25644247040.0000\n",
            "Epoch 152/400\n",
            "119/119 [==============================] - 0s 3ms/step - loss: 28134567936.0000 - val_loss: 25678342144.0000\n",
            "Epoch 153/400\n",
            "119/119 [==============================] - 0s 3ms/step - loss: 28161482752.0000 - val_loss: 25562931200.0000\n",
            "Epoch 154/400\n",
            "119/119 [==============================] - 0s 3ms/step - loss: 28108355584.0000 - val_loss: 25575692288.0000\n",
            "Epoch 155/400\n",
            "119/119 [==============================] - 0s 3ms/step - loss: 28142657536.0000 - val_loss: 25671309312.0000\n",
            "Epoch 156/400\n",
            "119/119 [==============================] - 0s 3ms/step - loss: 28124739584.0000 - val_loss: 25585305600.0000\n",
            "Epoch 157/400\n",
            "119/119 [==============================] - 0s 4ms/step - loss: 28074391552.0000 - val_loss: 25572349952.0000\n",
            "Epoch 158/400\n",
            "119/119 [==============================] - 0s 3ms/step - loss: 28058001408.0000 - val_loss: 25552510976.0000\n",
            "Epoch 159/400\n",
            "119/119 [==============================] - 0s 4ms/step - loss: 28054122496.0000 - val_loss: 25571563520.0000\n",
            "Epoch 160/400\n",
            "119/119 [==============================] - 0s 3ms/step - loss: 28052977664.0000 - val_loss: 25574012928.0000\n",
            "Epoch 161/400\n",
            "119/119 [==============================] - 0s 3ms/step - loss: 28015345664.0000 - val_loss: 25606905856.0000\n",
            "Epoch 162/400\n",
            "119/119 [==============================] - 0s 4ms/step - loss: 28077725696.0000 - val_loss: 25519878144.0000\n",
            "Epoch 163/400\n",
            "119/119 [==============================] - 0s 3ms/step - loss: 28027328512.0000 - val_loss: 25562648576.0000\n",
            "Epoch 164/400\n",
            "119/119 [==============================] - 0s 3ms/step - loss: 28005978112.0000 - val_loss: 25598619648.0000\n",
            "Epoch 165/400\n",
            "119/119 [==============================] - 0s 3ms/step - loss: 28021764096.0000 - val_loss: 25520236544.0000\n",
            "Epoch 166/400\n",
            "119/119 [==============================] - 0s 3ms/step - loss: 27994642432.0000 - val_loss: 25493370880.0000\n",
            "Epoch 167/400\n",
            "119/119 [==============================] - 0s 3ms/step - loss: 27995985920.0000 - val_loss: 25497251840.0000\n",
            "Epoch 168/400\n",
            "119/119 [==============================] - 0s 3ms/step - loss: 27981412352.0000 - val_loss: 25567856640.0000\n",
            "Epoch 169/400\n",
            "119/119 [==============================] - 0s 3ms/step - loss: 27960647680.0000 - val_loss: 25453438976.0000\n",
            "Epoch 170/400\n",
            "119/119 [==============================] - 0s 3ms/step - loss: 27987159040.0000 - val_loss: 25553207296.0000\n",
            "Epoch 171/400\n",
            "119/119 [==============================] - 0s 3ms/step - loss: 27947167744.0000 - val_loss: 25497274368.0000\n",
            "Epoch 172/400\n",
            "119/119 [==============================] - 0s 3ms/step - loss: 27960788992.0000 - val_loss: 25498288128.0000\n",
            "Epoch 173/400\n",
            "119/119 [==============================] - 0s 3ms/step - loss: 27965642752.0000 - val_loss: 25461264384.0000\n",
            "Epoch 174/400\n",
            "119/119 [==============================] - 0s 3ms/step - loss: 27950135296.0000 - val_loss: 25432551424.0000\n",
            "Epoch 175/400\n",
            "119/119 [==============================] - 0s 3ms/step - loss: 27902658560.0000 - val_loss: 25404047360.0000\n",
            "Epoch 176/400\n",
            "119/119 [==============================] - 0s 3ms/step - loss: 27943282688.0000 - val_loss: 25413117952.0000\n",
            "Epoch 177/400\n",
            "119/119 [==============================] - 0s 3ms/step - loss: 27901456384.0000 - val_loss: 25419292672.0000\n",
            "Epoch 178/400\n",
            "119/119 [==============================] - 0s 3ms/step - loss: 27887898624.0000 - val_loss: 25670825984.0000\n",
            "Epoch 179/400\n",
            "119/119 [==============================] - 0s 3ms/step - loss: 27915298816.0000 - val_loss: 25516204032.0000\n",
            "Epoch 180/400\n",
            "119/119 [==============================] - 0s 3ms/step - loss: 27910268928.0000 - val_loss: 25620848640.0000\n",
            "Epoch 181/400\n",
            "119/119 [==============================] - 0s 3ms/step - loss: 27883540480.0000 - val_loss: 25371531264.0000\n",
            "Epoch 182/400\n",
            "119/119 [==============================] - 0s 3ms/step - loss: 27866851328.0000 - val_loss: 25406812160.0000\n",
            "Epoch 183/400\n",
            "119/119 [==============================] - 0s 3ms/step - loss: 27895578624.0000 - val_loss: 25362563072.0000\n",
            "Epoch 184/400\n",
            "119/119 [==============================] - 0s 3ms/step - loss: 27829366784.0000 - val_loss: 25414270976.0000\n",
            "Epoch 185/400\n",
            "119/119 [==============================] - 0s 3ms/step - loss: 27849863168.0000 - val_loss: 25371273216.0000\n",
            "Epoch 186/400\n",
            "119/119 [==============================] - 0s 3ms/step - loss: 27869089792.0000 - val_loss: 25351827456.0000\n",
            "Epoch 187/400\n",
            "119/119 [==============================] - 0s 3ms/step - loss: 27792328704.0000 - val_loss: 25377169408.0000\n",
            "Epoch 188/400\n",
            "119/119 [==============================] - 0s 3ms/step - loss: 27833706496.0000 - val_loss: 25372973056.0000\n",
            "Epoch 189/400\n",
            "119/119 [==============================] - 0s 3ms/step - loss: 27792396288.0000 - val_loss: 25541318656.0000\n",
            "Epoch 190/400\n",
            "119/119 [==============================] - 0s 3ms/step - loss: 27794903040.0000 - val_loss: 25301295104.0000\n",
            "Epoch 191/400\n",
            "119/119 [==============================] - 0s 3ms/step - loss: 27794978816.0000 - val_loss: 25300092928.0000\n",
            "Epoch 192/400\n",
            "119/119 [==============================] - 0s 3ms/step - loss: 27804440576.0000 - val_loss: 25307824128.0000\n",
            "Epoch 193/400\n",
            "119/119 [==============================] - 0s 3ms/step - loss: 27790342144.0000 - val_loss: 25332391936.0000\n",
            "Epoch 194/400\n",
            "119/119 [==============================] - 0s 3ms/step - loss: 27829684224.0000 - val_loss: 25276835840.0000\n",
            "Epoch 195/400\n",
            "119/119 [==============================] - 0s 3ms/step - loss: 27791276032.0000 - val_loss: 25266339840.0000\n",
            "Epoch 196/400\n",
            "119/119 [==============================] - 0s 3ms/step - loss: 27748007936.0000 - val_loss: 25302392832.0000\n",
            "Epoch 197/400\n",
            "119/119 [==============================] - 0s 3ms/step - loss: 27745486848.0000 - val_loss: 25250719744.0000\n",
            "Epoch 198/400\n",
            "119/119 [==============================] - 0s 3ms/step - loss: 27732160512.0000 - val_loss: 25270984704.0000\n",
            "Epoch 199/400\n",
            "119/119 [==============================] - 0s 3ms/step - loss: 27784153088.0000 - val_loss: 25269645312.0000\n",
            "Epoch 200/400\n",
            "119/119 [==============================] - 0s 3ms/step - loss: 27703615488.0000 - val_loss: 25271779328.0000\n",
            "Epoch 201/400\n",
            "119/119 [==============================] - 0s 3ms/step - loss: 27676770304.0000 - val_loss: 25271142400.0000\n",
            "Epoch 202/400\n",
            "119/119 [==============================] - 0s 3ms/step - loss: 27712604160.0000 - val_loss: 25272408064.0000\n",
            "Epoch 203/400\n",
            "119/119 [==============================] - 0s 3ms/step - loss: 27668948992.0000 - val_loss: 25270278144.0000\n",
            "Epoch 204/400\n",
            "119/119 [==============================] - 0s 3ms/step - loss: 27746996224.0000 - val_loss: 25265156096.0000\n",
            "Epoch 205/400\n",
            "119/119 [==============================] - 0s 3ms/step - loss: 27677691904.0000 - val_loss: 25272752128.0000\n",
            "Epoch 206/400\n",
            "119/119 [==============================] - 0s 3ms/step - loss: 27690674176.0000 - val_loss: 25236666368.0000\n",
            "Epoch 207/400\n",
            "119/119 [==============================] - 0s 3ms/step - loss: 27689719808.0000 - val_loss: 25227845632.0000\n",
            "Epoch 208/400\n",
            "119/119 [==============================] - 0s 3ms/step - loss: 27631769600.0000 - val_loss: 25215285248.0000\n",
            "Epoch 209/400\n",
            "119/119 [==============================] - 0s 3ms/step - loss: 27632191488.0000 - val_loss: 25185767424.0000\n",
            "Epoch 210/400\n",
            "119/119 [==============================] - 0s 3ms/step - loss: 27627948032.0000 - val_loss: 25188630528.0000\n",
            "Epoch 211/400\n",
            "119/119 [==============================] - 0s 3ms/step - loss: 27606648832.0000 - val_loss: 25233338368.0000\n",
            "Epoch 212/400\n",
            "119/119 [==============================] - 0s 3ms/step - loss: 27638480896.0000 - val_loss: 25266702336.0000\n",
            "Epoch 213/400\n",
            "119/119 [==============================] - 0s 3ms/step - loss: 27543590912.0000 - val_loss: 25366630400.0000\n",
            "Epoch 214/400\n",
            "119/119 [==============================] - 0s 3ms/step - loss: 27712952320.0000 - val_loss: 25162323968.0000\n",
            "Epoch 215/400\n",
            "119/119 [==============================] - 0s 3ms/step - loss: 27624681472.0000 - val_loss: 25139941376.0000\n",
            "Epoch 216/400\n",
            "119/119 [==============================] - 0s 3ms/step - loss: 27605039104.0000 - val_loss: 25237981184.0000\n",
            "Epoch 217/400\n",
            "119/119 [==============================] - 0s 3ms/step - loss: 27563706368.0000 - val_loss: 25247270912.0000\n",
            "Epoch 218/400\n",
            "119/119 [==============================] - 0s 4ms/step - loss: 27583389696.0000 - val_loss: 25263509504.0000\n",
            "Epoch 219/400\n",
            "119/119 [==============================] - 0s 3ms/step - loss: 27577270272.0000 - val_loss: 25125994496.0000\n",
            "Epoch 220/400\n",
            "119/119 [==============================] - 0s 3ms/step - loss: 27543472128.0000 - val_loss: 25252472832.0000\n",
            "Epoch 221/400\n",
            "119/119 [==============================] - 0s 3ms/step - loss: 27543545856.0000 - val_loss: 25171255296.0000\n",
            "Epoch 222/400\n",
            "119/119 [==============================] - 0s 3ms/step - loss: 27566084096.0000 - val_loss: 25083029504.0000\n",
            "Epoch 223/400\n",
            "119/119 [==============================] - 0s 3ms/step - loss: 27531436032.0000 - val_loss: 25085775872.0000\n",
            "Epoch 224/400\n",
            "119/119 [==============================] - 0s 3ms/step - loss: 27614472192.0000 - val_loss: 25091440640.0000\n",
            "Epoch 225/400\n",
            "119/119 [==============================] - 0s 3ms/step - loss: 27545452544.0000 - val_loss: 25100703744.0000\n",
            "Epoch 226/400\n",
            "119/119 [==============================] - 0s 3ms/step - loss: 27519094784.0000 - val_loss: 25092581376.0000\n",
            "Epoch 227/400\n",
            "119/119 [==============================] - 0s 3ms/step - loss: 27496517632.0000 - val_loss: 25102733312.0000\n",
            "Epoch 228/400\n",
            "119/119 [==============================] - 0s 3ms/step - loss: 27474925568.0000 - val_loss: 25092132864.0000\n",
            "Epoch 229/400\n",
            "119/119 [==============================] - 0s 3ms/step - loss: 27514484736.0000 - val_loss: 25071857664.0000\n",
            "Epoch 230/400\n",
            "119/119 [==============================] - 0s 3ms/step - loss: 27473985536.0000 - val_loss: 25072930816.0000\n",
            "Epoch 231/400\n",
            "119/119 [==============================] - 0s 3ms/step - loss: 27470018560.0000 - val_loss: 25021048832.0000\n",
            "Epoch 232/400\n",
            "119/119 [==============================] - 0s 3ms/step - loss: 27611131904.0000 - val_loss: 25108768768.0000\n",
            "Epoch 233/400\n",
            "119/119 [==============================] - 0s 3ms/step - loss: 27470946304.0000 - val_loss: 25078339584.0000\n",
            "Epoch 234/400\n",
            "119/119 [==============================] - 0s 3ms/step - loss: 27467542528.0000 - val_loss: 25031325696.0000\n",
            "Epoch 235/400\n",
            "119/119 [==============================] - 0s 3ms/step - loss: 27562752000.0000 - val_loss: 25041516544.0000\n",
            "Epoch 236/400\n",
            "119/119 [==============================] - 0s 3ms/step - loss: 27432941568.0000 - val_loss: 25043757056.0000\n",
            "Epoch 237/400\n",
            "119/119 [==============================] - 0s 3ms/step - loss: 27446738944.0000 - val_loss: 25042501632.0000\n",
            "Epoch 238/400\n",
            "119/119 [==============================] - 0s 3ms/step - loss: 27405973504.0000 - val_loss: 25027180544.0000\n",
            "Epoch 239/400\n",
            "119/119 [==============================] - 0s 3ms/step - loss: 27426764800.0000 - val_loss: 25019619328.0000\n",
            "Epoch 240/400\n",
            "119/119 [==============================] - 0s 3ms/step - loss: 27475963904.0000 - val_loss: 25033117696.0000\n",
            "Epoch 241/400\n",
            "119/119 [==============================] - 0s 3ms/step - loss: 27480614912.0000 - val_loss: 25005477888.0000\n",
            "Epoch 242/400\n",
            "119/119 [==============================] - 0s 3ms/step - loss: 27394768896.0000 - val_loss: 24978305024.0000\n",
            "Epoch 243/400\n",
            "119/119 [==============================] - 0s 3ms/step - loss: 27397939200.0000 - val_loss: 25000069120.0000\n",
            "Epoch 244/400\n",
            "119/119 [==============================] - 0s 3ms/step - loss: 27395645440.0000 - val_loss: 24981153792.0000\n",
            "Epoch 245/400\n",
            "119/119 [==============================] - 0s 3ms/step - loss: 27391576064.0000 - val_loss: 25005283328.0000\n",
            "Epoch 246/400\n",
            "119/119 [==============================] - 0s 3ms/step - loss: 27380402176.0000 - val_loss: 24959696896.0000\n",
            "Epoch 247/400\n",
            "119/119 [==============================] - 0s 3ms/step - loss: 27376080896.0000 - val_loss: 24986048512.0000\n",
            "Epoch 248/400\n",
            "119/119 [==============================] - 0s 3ms/step - loss: 27389396992.0000 - val_loss: 24966193152.0000\n",
            "Epoch 249/400\n",
            "119/119 [==============================] - 0s 3ms/step - loss: 27367555072.0000 - val_loss: 24957392896.0000\n",
            "Epoch 250/400\n",
            "119/119 [==============================] - 0s 3ms/step - loss: 27384047616.0000 - val_loss: 24947673088.0000\n",
            "Epoch 251/400\n",
            "119/119 [==============================] - 0s 3ms/step - loss: 27374684160.0000 - val_loss: 24959590400.0000\n",
            "Epoch 252/400\n",
            "119/119 [==============================] - 0s 3ms/step - loss: 27372275712.0000 - val_loss: 25008818176.0000\n",
            "Epoch 253/400\n",
            "119/119 [==============================] - 0s 3ms/step - loss: 27314984960.0000 - val_loss: 25018476544.0000\n",
            "Epoch 254/400\n",
            "119/119 [==============================] - 0s 3ms/step - loss: 27353243648.0000 - val_loss: 24955355136.0000\n",
            "Epoch 255/400\n",
            "119/119 [==============================] - 0s 3ms/step - loss: 27321757696.0000 - val_loss: 24963086336.0000\n",
            "Epoch 256/400\n",
            "119/119 [==============================] - 0s 3ms/step - loss: 27355281408.0000 - val_loss: 25068662784.0000\n",
            "Epoch 257/400\n",
            "119/119 [==============================] - 0s 3ms/step - loss: 27338588160.0000 - val_loss: 24994066432.0000\n",
            "Epoch 258/400\n",
            "119/119 [==============================] - 0s 3ms/step - loss: 27316432896.0000 - val_loss: 24938868736.0000\n",
            "Epoch 259/400\n",
            "119/119 [==============================] - 0s 3ms/step - loss: 27345987584.0000 - val_loss: 24925814784.0000\n",
            "Epoch 260/400\n",
            "119/119 [==============================] - 0s 3ms/step - loss: 27289376768.0000 - val_loss: 24970565632.0000\n",
            "Epoch 261/400\n",
            "119/119 [==============================] - 0s 3ms/step - loss: 27318781952.0000 - val_loss: 25029881856.0000\n",
            "Epoch 262/400\n",
            "119/119 [==============================] - 0s 3ms/step - loss: 27270377472.0000 - val_loss: 25310255104.0000\n",
            "Epoch 263/400\n",
            "119/119 [==============================] - 0s 3ms/step - loss: 27279009792.0000 - val_loss: 24892577792.0000\n",
            "Epoch 264/400\n",
            "119/119 [==============================] - 0s 3ms/step - loss: 27300956160.0000 - val_loss: 24880359424.0000\n",
            "Epoch 265/400\n",
            "119/119 [==============================] - 0s 3ms/step - loss: 27258150912.0000 - val_loss: 25004820480.0000\n",
            "Epoch 266/400\n",
            "119/119 [==============================] - 0s 3ms/step - loss: 27353841664.0000 - val_loss: 24876279808.0000\n",
            "Epoch 267/400\n",
            "119/119 [==============================] - 0s 3ms/step - loss: 27289657344.0000 - val_loss: 24910772224.0000\n",
            "Epoch 268/400\n",
            "119/119 [==============================] - 0s 3ms/step - loss: 27295504384.0000 - val_loss: 24885694464.0000\n",
            "Epoch 269/400\n",
            "119/119 [==============================] - 0s 3ms/step - loss: 27272257536.0000 - val_loss: 24922542080.0000\n",
            "Epoch 270/400\n",
            "119/119 [==============================] - 0s 3ms/step - loss: 27271008256.0000 - val_loss: 24859904000.0000\n",
            "Epoch 271/400\n",
            "119/119 [==============================] - 0s 3ms/step - loss: 27282294784.0000 - val_loss: 24858853376.0000\n",
            "Epoch 272/400\n",
            "119/119 [==============================] - 0s 3ms/step - loss: 27262353408.0000 - val_loss: 25000667136.0000\n",
            "Epoch 273/400\n",
            "119/119 [==============================] - 0s 3ms/step - loss: 27252692992.0000 - val_loss: 24843300864.0000\n",
            "Epoch 274/400\n",
            "119/119 [==============================] - 0s 3ms/step - loss: 27248760832.0000 - val_loss: 24860071936.0000\n",
            "Epoch 275/400\n",
            "119/119 [==============================] - 0s 3ms/step - loss: 27297400832.0000 - val_loss: 24951015424.0000\n",
            "Epoch 276/400\n",
            "119/119 [==============================] - 0s 3ms/step - loss: 27213844480.0000 - val_loss: 24874645504.0000\n",
            "Epoch 277/400\n",
            "119/119 [==============================] - 0s 3ms/step - loss: 27190487040.0000 - val_loss: 24901378048.0000\n",
            "Epoch 278/400\n",
            "119/119 [==============================] - 0s 3ms/step - loss: 27197110272.0000 - val_loss: 24935669760.0000\n",
            "Epoch 279/400\n",
            "119/119 [==============================] - 0s 3ms/step - loss: 27193532416.0000 - val_loss: 24821055488.0000\n",
            "Epoch 280/400\n",
            "119/119 [==============================] - 0s 3ms/step - loss: 27237072896.0000 - val_loss: 24828370944.0000\n",
            "Epoch 281/400\n",
            "119/119 [==============================] - 0s 3ms/step - loss: 27219472384.0000 - val_loss: 24876484608.0000\n",
            "Epoch 282/400\n",
            "119/119 [==============================] - 0s 3ms/step - loss: 27166547968.0000 - val_loss: 25398099968.0000\n",
            "Epoch 283/400\n",
            "119/119 [==============================] - 0s 3ms/step - loss: 27222870016.0000 - val_loss: 24840755200.0000\n",
            "Epoch 284/400\n",
            "119/119 [==============================] - 0s 3ms/step - loss: 27184549888.0000 - val_loss: 24823803904.0000\n",
            "Epoch 285/400\n",
            "119/119 [==============================] - 0s 3ms/step - loss: 27244627968.0000 - val_loss: 24892628992.0000\n",
            "Epoch 286/400\n",
            "119/119 [==============================] - 0s 3ms/step - loss: 27177490432.0000 - val_loss: 24932902912.0000\n",
            "Epoch 287/400\n",
            "119/119 [==============================] - 0s 3ms/step - loss: 27240585216.0000 - val_loss: 24945195008.0000\n",
            "Epoch 288/400\n",
            "119/119 [==============================] - 0s 3ms/step - loss: 27110270976.0000 - val_loss: 24802895872.0000\n",
            "Epoch 289/400\n",
            "119/119 [==============================] - 0s 3ms/step - loss: 27179884544.0000 - val_loss: 24895739904.0000\n",
            "Epoch 290/400\n",
            "119/119 [==============================] - 0s 3ms/step - loss: 27121045504.0000 - val_loss: 24803522560.0000\n",
            "Epoch 291/400\n",
            "119/119 [==============================] - 0s 3ms/step - loss: 27148660736.0000 - val_loss: 24812947456.0000\n",
            "Epoch 292/400\n",
            "119/119 [==============================] - 0s 3ms/step - loss: 27151007744.0000 - val_loss: 24813107200.0000\n",
            "Epoch 293/400\n",
            "119/119 [==============================] - 0s 3ms/step - loss: 27150651392.0000 - val_loss: 24878870528.0000\n",
            "Epoch 294/400\n",
            "119/119 [==============================] - 0s 3ms/step - loss: 27115970560.0000 - val_loss: 24891260928.0000\n",
            "Epoch 295/400\n",
            "119/119 [==============================] - 0s 3ms/step - loss: 27176622080.0000 - val_loss: 24789626880.0000\n",
            "Epoch 296/400\n",
            "119/119 [==============================] - 0s 3ms/step - loss: 27106990080.0000 - val_loss: 24839903232.0000\n",
            "Epoch 297/400\n",
            "119/119 [==============================] - 0s 3ms/step - loss: 27118974976.0000 - val_loss: 24762179584.0000\n",
            "Epoch 298/400\n",
            "119/119 [==============================] - 0s 3ms/step - loss: 27094253568.0000 - val_loss: 24791293952.0000\n",
            "Epoch 299/400\n",
            "119/119 [==============================] - 0s 3ms/step - loss: 27111522304.0000 - val_loss: 24774967296.0000\n",
            "Epoch 300/400\n",
            "119/119 [==============================] - 0s 3ms/step - loss: 27134033920.0000 - val_loss: 24817793024.0000\n",
            "Epoch 301/400\n",
            "119/119 [==============================] - 0s 3ms/step - loss: 27115763712.0000 - val_loss: 24840007680.0000\n",
            "Epoch 302/400\n",
            "119/119 [==============================] - 0s 3ms/step - loss: 27115378688.0000 - val_loss: 24783388672.0000\n",
            "Epoch 303/400\n",
            "119/119 [==============================] - 0s 3ms/step - loss: 27130167296.0000 - val_loss: 24768825344.0000\n",
            "Epoch 304/400\n",
            "119/119 [==============================] - 0s 3ms/step - loss: 27082838016.0000 - val_loss: 24763189248.0000\n",
            "Epoch 305/400\n",
            "119/119 [==============================] - 0s 3ms/step - loss: 27083208704.0000 - val_loss: 24755499008.0000\n",
            "Epoch 306/400\n",
            "119/119 [==============================] - 0s 3ms/step - loss: 27087804416.0000 - val_loss: 24750168064.0000\n",
            "Epoch 307/400\n",
            "119/119 [==============================] - 0s 3ms/step - loss: 27079122944.0000 - val_loss: 24753025024.0000\n",
            "Epoch 308/400\n",
            "119/119 [==============================] - 0s 3ms/step - loss: 27137150976.0000 - val_loss: 24713428992.0000\n",
            "Epoch 309/400\n",
            "119/119 [==============================] - 0s 3ms/step - loss: 27047712768.0000 - val_loss: 24744343552.0000\n",
            "Epoch 310/400\n",
            "119/119 [==============================] - 0s 3ms/step - loss: 27043631104.0000 - val_loss: 24923185152.0000\n",
            "Epoch 311/400\n",
            "119/119 [==============================] - 0s 3ms/step - loss: 27081267200.0000 - val_loss: 24737095680.0000\n",
            "Epoch 312/400\n",
            "119/119 [==============================] - 0s 3ms/step - loss: 27075137536.0000 - val_loss: 24732577792.0000\n",
            "Epoch 313/400\n",
            "119/119 [==============================] - 0s 3ms/step - loss: 27087124480.0000 - val_loss: 24778672128.0000\n",
            "Epoch 314/400\n",
            "119/119 [==============================] - 0s 3ms/step - loss: 27041296384.0000 - val_loss: 24797546496.0000\n",
            "Epoch 315/400\n",
            "119/119 [==============================] - 0s 4ms/step - loss: 27083646976.0000 - val_loss: 24795668480.0000\n",
            "Epoch 316/400\n",
            "119/119 [==============================] - 0s 3ms/step - loss: 27039195136.0000 - val_loss: 24750139392.0000\n",
            "Epoch 317/400\n",
            "119/119 [==============================] - 0s 3ms/step - loss: 27028004864.0000 - val_loss: 24768004096.0000\n",
            "Epoch 318/400\n",
            "119/119 [==============================] - 0s 4ms/step - loss: 27121133568.0000 - val_loss: 24819472384.0000\n",
            "Epoch 319/400\n",
            "119/119 [==============================] - 0s 3ms/step - loss: 27089440768.0000 - val_loss: 24720543744.0000\n",
            "Epoch 320/400\n",
            "119/119 [==============================] - 0s 3ms/step - loss: 27053178880.0000 - val_loss: 24758622208.0000\n",
            "Epoch 321/400\n",
            "119/119 [==============================] - 0s 3ms/step - loss: 27058567168.0000 - val_loss: 24707733504.0000\n",
            "Epoch 322/400\n",
            "119/119 [==============================] - 0s 3ms/step - loss: 27001628672.0000 - val_loss: 24730533888.0000\n",
            "Epoch 323/400\n",
            "119/119 [==============================] - 0s 3ms/step - loss: 27008286720.0000 - val_loss: 24726972416.0000\n",
            "Epoch 324/400\n",
            "119/119 [==============================] - 0s 3ms/step - loss: 26983688192.0000 - val_loss: 24682319872.0000\n",
            "Epoch 325/400\n",
            "119/119 [==============================] - 0s 3ms/step - loss: 27009474560.0000 - val_loss: 24755554304.0000\n",
            "Epoch 326/400\n",
            "119/119 [==============================] - 0s 3ms/step - loss: 27018149888.0000 - val_loss: 24696158208.0000\n",
            "Epoch 327/400\n",
            "119/119 [==============================] - 0s 3ms/step - loss: 27015008256.0000 - val_loss: 24711258112.0000\n",
            "Epoch 328/400\n",
            "119/119 [==============================] - 0s 3ms/step - loss: 26974083072.0000 - val_loss: 24862031872.0000\n",
            "Epoch 329/400\n",
            "119/119 [==============================] - 0s 3ms/step - loss: 27021647872.0000 - val_loss: 24876574720.0000\n",
            "Epoch 330/400\n",
            "119/119 [==============================] - 0s 3ms/step - loss: 27014477824.0000 - val_loss: 24719925248.0000\n",
            "Epoch 331/400\n",
            "119/119 [==============================] - 0s 3ms/step - loss: 26985091072.0000 - val_loss: 24719157248.0000\n",
            "Epoch 332/400\n",
            "119/119 [==============================] - 0s 3ms/step - loss: 27006642176.0000 - val_loss: 24707526656.0000\n",
            "Epoch 333/400\n",
            "119/119 [==============================] - 0s 3ms/step - loss: 26992431104.0000 - val_loss: 24815439872.0000\n",
            "Epoch 334/400\n",
            "119/119 [==============================] - 0s 3ms/step - loss: 26969384960.0000 - val_loss: 24706570240.0000\n",
            "Epoch 335/400\n",
            "119/119 [==============================] - 0s 3ms/step - loss: 26987745280.0000 - val_loss: 24761792512.0000\n",
            "Epoch 336/400\n",
            "119/119 [==============================] - 0s 3ms/step - loss: 26957455360.0000 - val_loss: 24728702976.0000\n",
            "Epoch 337/400\n",
            "119/119 [==============================] - 0s 3ms/step - loss: 26985852928.0000 - val_loss: 24742090752.0000\n",
            "Epoch 338/400\n",
            "119/119 [==============================] - 0s 3ms/step - loss: 27000215552.0000 - val_loss: 24662910976.0000\n",
            "Epoch 339/400\n",
            "119/119 [==============================] - 0s 3ms/step - loss: 26949066752.0000 - val_loss: 24637097984.0000\n",
            "Epoch 340/400\n",
            "119/119 [==============================] - 0s 3ms/step - loss: 26963019776.0000 - val_loss: 24638691328.0000\n",
            "Epoch 341/400\n",
            "119/119 [==============================] - 0s 3ms/step - loss: 26933891072.0000 - val_loss: 24629057536.0000\n",
            "Epoch 342/400\n",
            "119/119 [==============================] - 0s 3ms/step - loss: 26959906816.0000 - val_loss: 24647550976.0000\n",
            "Epoch 343/400\n",
            "119/119 [==============================] - 0s 3ms/step - loss: 26953996288.0000 - val_loss: 24644038656.0000\n",
            "Epoch 344/400\n",
            "119/119 [==============================] - 0s 3ms/step - loss: 26940538880.0000 - val_loss: 24986064896.0000\n",
            "Epoch 345/400\n",
            "119/119 [==============================] - 0s 3ms/step - loss: 27007537152.0000 - val_loss: 24643342336.0000\n",
            "Epoch 346/400\n",
            "119/119 [==============================] - 0s 4ms/step - loss: 26905419776.0000 - val_loss: 24633116672.0000\n",
            "Epoch 347/400\n",
            "119/119 [==============================] - 0s 3ms/step - loss: 26978922496.0000 - val_loss: 24813395968.0000\n",
            "Epoch 348/400\n",
            "119/119 [==============================] - 0s 3ms/step - loss: 26955868160.0000 - val_loss: 24614236160.0000\n",
            "Epoch 349/400\n",
            "119/119 [==============================] - 0s 3ms/step - loss: 26946967552.0000 - val_loss: 24683962368.0000\n",
            "Epoch 350/400\n",
            "119/119 [==============================] - 0s 3ms/step - loss: 26919426048.0000 - val_loss: 24610023424.0000\n",
            "Epoch 351/400\n",
            "119/119 [==============================] - 0s 3ms/step - loss: 26987102208.0000 - val_loss: 24598050816.0000\n",
            "Epoch 352/400\n",
            "119/119 [==============================] - 0s 3ms/step - loss: 26899169280.0000 - val_loss: 24783659008.0000\n",
            "Epoch 353/400\n",
            "119/119 [==============================] - 0s 3ms/step - loss: 26922555392.0000 - val_loss: 24658128896.0000\n",
            "Epoch 354/400\n",
            "119/119 [==============================] - 0s 3ms/step - loss: 26912337920.0000 - val_loss: 24600250368.0000\n",
            "Epoch 355/400\n",
            "119/119 [==============================] - 0s 3ms/step - loss: 26923370496.0000 - val_loss: 24578052096.0000\n",
            "Epoch 356/400\n",
            "119/119 [==============================] - 0s 3ms/step - loss: 26916501504.0000 - val_loss: 24618223616.0000\n",
            "Epoch 357/400\n",
            "119/119 [==============================] - 0s 3ms/step - loss: 26921670656.0000 - val_loss: 24598407168.0000\n",
            "Epoch 358/400\n",
            "119/119 [==============================] - 0s 3ms/step - loss: 26872150016.0000 - val_loss: 24597712896.0000\n",
            "Epoch 359/400\n",
            "119/119 [==============================] - 0s 3ms/step - loss: 26896052224.0000 - val_loss: 24551731200.0000\n",
            "Epoch 360/400\n",
            "119/119 [==============================] - 0s 4ms/step - loss: 26889633792.0000 - val_loss: 24588636160.0000\n",
            "Epoch 361/400\n",
            "119/119 [==============================] - 0s 3ms/step - loss: 26881200128.0000 - val_loss: 24571461632.0000\n",
            "Epoch 362/400\n",
            "119/119 [==============================] - 0s 3ms/step - loss: 26863761408.0000 - val_loss: 24592275456.0000\n",
            "Epoch 363/400\n",
            "119/119 [==============================] - 0s 3ms/step - loss: 26874595328.0000 - val_loss: 24568604672.0000\n",
            "Epoch 364/400\n",
            "119/119 [==============================] - 0s 3ms/step - loss: 26865938432.0000 - val_loss: 24598501376.0000\n",
            "Epoch 365/400\n",
            "119/119 [==============================] - 0s 3ms/step - loss: 26866055168.0000 - val_loss: 24598056960.0000\n",
            "Epoch 366/400\n",
            "119/119 [==============================] - 0s 3ms/step - loss: 26853693440.0000 - val_loss: 24568623104.0000\n",
            "Epoch 367/400\n",
            "119/119 [==============================] - 0s 3ms/step - loss: 26868146176.0000 - val_loss: 24529393664.0000\n",
            "Epoch 368/400\n",
            "119/119 [==============================] - 0s 3ms/step - loss: 26902718464.0000 - val_loss: 24575152128.0000\n",
            "Epoch 369/400\n",
            "119/119 [==============================] - 0s 3ms/step - loss: 26835134464.0000 - val_loss: 24542840832.0000\n",
            "Epoch 370/400\n",
            "119/119 [==============================] - 0s 3ms/step - loss: 26852368384.0000 - val_loss: 24555821056.0000\n",
            "Epoch 371/400\n",
            "119/119 [==============================] - 0s 3ms/step - loss: 26845339648.0000 - val_loss: 24607356928.0000\n",
            "Epoch 372/400\n",
            "119/119 [==============================] - 0s 3ms/step - loss: 26861375488.0000 - val_loss: 24555315200.0000\n",
            "Epoch 373/400\n",
            "119/119 [==============================] - 0s 3ms/step - loss: 26846726144.0000 - val_loss: 24569036800.0000\n",
            "Epoch 374/400\n",
            "119/119 [==============================] - 0s 3ms/step - loss: 26820071424.0000 - val_loss: 24566982656.0000\n",
            "Epoch 375/400\n",
            "119/119 [==============================] - 0s 3ms/step - loss: 26827956224.0000 - val_loss: 24563556352.0000\n",
            "Epoch 376/400\n",
            "119/119 [==============================] - 0s 3ms/step - loss: 26870087680.0000 - val_loss: 24536274944.0000\n",
            "Epoch 377/400\n",
            "119/119 [==============================] - 0s 3ms/step - loss: 26867646464.0000 - val_loss: 24553506816.0000\n",
            "Epoch 378/400\n",
            "119/119 [==============================] - 0s 3ms/step - loss: 26865104896.0000 - val_loss: 24507869184.0000\n",
            "Epoch 379/400\n",
            "119/119 [==============================] - 0s 3ms/step - loss: 26809268224.0000 - val_loss: 24538824704.0000\n",
            "Epoch 380/400\n",
            "119/119 [==============================] - 0s 3ms/step - loss: 26774794240.0000 - val_loss: 24527241216.0000\n",
            "Epoch 381/400\n",
            "119/119 [==============================] - 0s 3ms/step - loss: 26820937728.0000 - val_loss: 24490856448.0000\n",
            "Epoch 382/400\n",
            "119/119 [==============================] - 0s 3ms/step - loss: 26843881472.0000 - val_loss: 24555573248.0000\n",
            "Epoch 383/400\n",
            "119/119 [==============================] - 0s 3ms/step - loss: 26787348480.0000 - val_loss: 24523612160.0000\n",
            "Epoch 384/400\n",
            "119/119 [==============================] - 0s 3ms/step - loss: 26847422464.0000 - val_loss: 24540792832.0000\n",
            "Epoch 385/400\n",
            "119/119 [==============================] - 0s 3ms/step - loss: 26794205184.0000 - val_loss: 24670011392.0000\n",
            "Epoch 386/400\n",
            "119/119 [==============================] - 0s 3ms/step - loss: 26838525952.0000 - val_loss: 24544978944.0000\n",
            "Epoch 387/400\n",
            "119/119 [==============================] - 0s 3ms/step - loss: 26821990400.0000 - val_loss: 24596615168.0000\n",
            "Epoch 388/400\n",
            "119/119 [==============================] - 0s 3ms/step - loss: 26899912704.0000 - val_loss: 24540962816.0000\n",
            "Epoch 389/400\n",
            "119/119 [==============================] - 0s 3ms/step - loss: 26779838464.0000 - val_loss: 24555788288.0000\n",
            "Epoch 390/400\n",
            "119/119 [==============================] - 0s 3ms/step - loss: 26776498176.0000 - val_loss: 24494641152.0000\n",
            "Epoch 391/400\n",
            "119/119 [==============================] - 0s 3ms/step - loss: 26791979008.0000 - val_loss: 24487727104.0000\n",
            "Epoch 392/400\n",
            "119/119 [==============================] - 0s 3ms/step - loss: 26789654528.0000 - val_loss: 24505440256.0000\n",
            "Epoch 393/400\n",
            "119/119 [==============================] - 0s 3ms/step - loss: 26766657536.0000 - val_loss: 24511827968.0000\n",
            "Epoch 394/400\n",
            "119/119 [==============================] - 0s 3ms/step - loss: 26785366016.0000 - val_loss: 24541478912.0000\n",
            "Epoch 395/400\n",
            "119/119 [==============================] - 0s 3ms/step - loss: 26779721728.0000 - val_loss: 24494479360.0000\n",
            "Epoch 396/400\n",
            "119/119 [==============================] - 0s 3ms/step - loss: 26743867392.0000 - val_loss: 24516745216.0000\n",
            "Epoch 397/400\n",
            "119/119 [==============================] - 0s 3ms/step - loss: 26779719680.0000 - val_loss: 24515186688.0000\n",
            "Epoch 398/400\n",
            "119/119 [==============================] - 0s 3ms/step - loss: 26823065600.0000 - val_loss: 24517939200.0000\n",
            "Epoch 399/400\n",
            "119/119 [==============================] - 0s 3ms/step - loss: 26747623424.0000 - val_loss: 24494479360.0000\n",
            "Epoch 400/400\n",
            "119/119 [==============================] - 0s 3ms/step - loss: 26779052032.0000 - val_loss: 24515180544.0000\n"
          ]
        },
        {
          "output_type": "execute_result",
          "data": {
            "text/plain": [
              "<keras.callbacks.History at 0x7f12fa9b26d0>"
            ]
          },
          "metadata": {},
          "execution_count": 98
        }
      ]
    },
    {
      "cell_type": "markdown",
      "source": [
        "### Evaluation of model"
      ],
      "metadata": {
        "id": "Frd52TLjLAUJ"
      }
    },
    {
      "cell_type": "code",
      "source": [
        "y_pred =  model.predict(X_test)"
      ],
      "metadata": {
        "id": "FmjRhmjmLD5R"
      },
      "execution_count": 99,
      "outputs": []
    },
    {
      "cell_type": "code",
      "source": [
        "from sklearn.metrics import mean_squared_error, mean_absolute_error, explained_variance_score"
      ],
      "metadata": {
        "id": "o1RZyh8JLIkc"
      },
      "execution_count": 100,
      "outputs": []
    },
    {
      "cell_type": "code",
      "source": [
        "mean_squared_error(y_test, y_pred)"
      ],
      "metadata": {
        "colab": {
          "base_uri": "https://localhost:8080/"
        },
        "id": "PR8LU4yPLV9A",
        "outputId": "241a2be6-de70-4e41-8a1a-7c920dfb5fb4"
      },
      "execution_count": 101,
      "outputs": [
        {
          "output_type": "execute_result",
          "data": {
            "text/plain": [
              "24515185117.2882"
            ]
          },
          "metadata": {},
          "execution_count": 101
        }
      ]
    },
    {
      "cell_type": "code",
      "source": [
        "import numpy as np\n",
        "np.sqrt(mean_squared_error(y_test, y_pred))"
      ],
      "metadata": {
        "colab": {
          "base_uri": "https://localhost:8080/"
        },
        "id": "UEn2YSQJLb2W",
        "outputId": "b769b3cb-3703-4003-f143-394b58d6bb83"
      },
      "execution_count": 102,
      "outputs": [
        {
          "output_type": "execute_result",
          "data": {
            "text/plain": [
              "156573.25798899442"
            ]
          },
          "metadata": {},
          "execution_count": 102
        }
      ]
    },
    {
      "cell_type": "code",
      "source": [
        "explained_variance_score(y_test, y_pred)"
      ],
      "metadata": {
        "colab": {
          "base_uri": "https://localhost:8080/"
        },
        "id": "90ma7QjwLh6R",
        "outputId": "6dc09be7-91fe-40ef-d90e-c69104f23623"
      },
      "execution_count": 103,
      "outputs": [
        {
          "output_type": "execute_result",
          "data": {
            "text/plain": [
              "0.8151850953535014"
            ]
          },
          "metadata": {},
          "execution_count": 103
        }
      ]
    },
    {
      "cell_type": "code",
      "source": [],
      "metadata": {
        "id": "pQDHqS-oRbd1"
      },
      "execution_count": null,
      "outputs": []
    }
  ]
}